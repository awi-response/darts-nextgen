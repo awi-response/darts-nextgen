{
 "cells": [
  {
   "cell_type": "code",
   "execution_count": null,
   "id": "2d112322",
   "metadata": {},
   "outputs": [],
   "source": [
    "import xarray as xr\n",
    "from darts_utils.patcher import PatchedDataset\n",
    "\n",
    "tile = xr.open_dataset(\"...\", decode_coords=\"all\")\n",
    "tile"
   ]
  },
  {
   "cell_type": "code",
   "execution_count": null,
   "id": "dfd1fcfd",
   "metadata": {},
   "outputs": [],
   "source": [
    "tile.blue.plot.imshow(cmap=\"Blues\")"
   ]
  },
  {
   "cell_type": "code",
   "execution_count": null,
   "id": "89077aca",
   "metadata": {},
   "outputs": [],
   "source": [
    "patched_tile = PatchedDataset(tile, patch_size=1024, overlap=128)\n",
    "len(patched_tile)"
   ]
  },
  {
   "cell_type": "code",
   "execution_count": null,
   "id": "8964dcbf",
   "metadata": {},
   "outputs": [],
   "source": [
    "greys = (patched_tile[\"blue\"] + patched_tile[\"green\"] + patched_tile[\"red\"]) / 3\n",
    "patched_tile[\"greys\"] = greys\n",
    "combined_tile = patched_tile.combine_patches()\n",
    "combined_tile"
   ]
  },
  {
   "cell_type": "code",
   "execution_count": null,
   "id": "c51844a0",
   "metadata": {},
   "outputs": [],
   "source": [
    "combined_tile.greys.plot.imshow(cmap=\"Greys\")"
   ]
  },
  {
   "cell_type": "code",
   "execution_count": null,
   "id": "86b9c6ca",
   "metadata": {},
   "outputs": [],
   "source": [
    "tile[\"grey\"] = (tile[\"blue\"] + tile[\"green\"] + tile[\"red\"]) / 3\n",
    "tile.grey.plot.imshow(cmap=\"Greys\")"
   ]
  },
  {
   "cell_type": "code",
   "execution_count": null,
   "id": "1d641d2d",
   "metadata": {},
   "outputs": [],
   "source": [
    "(tile.grey - combined_tile.greys).plot.imshow(cmap=\"Greys\")"
   ]
  },
  {
   "cell_type": "code",
   "execution_count": null,
   "id": "159780d6",
   "metadata": {},
   "outputs": [],
   "source": [
    "import matplotlib.pyplot as plt\n",
    "\n",
    "plt.imshow(patched_tile.soft_margin)"
   ]
  },
  {
   "cell_type": "code",
   "execution_count": null,
   "id": "21c6dd20",
   "metadata": {},
   "outputs": [],
   "source": []
  }
 ],
 "metadata": {
  "kernelspec": {
   "display_name": ".venv",
   "language": "python",
   "name": "python3"
  },
  "language_info": {
   "codemirror_mode": {
    "name": "ipython",
    "version": 3
   },
   "file_extension": ".py",
   "mimetype": "text/x-python",
   "name": "python",
   "nbconvert_exporter": "python",
   "pygments_lexer": "ipython3",
   "version": "3.12.9"
  }
 },
 "nbformat": 4,
 "nbformat_minor": 5
}
