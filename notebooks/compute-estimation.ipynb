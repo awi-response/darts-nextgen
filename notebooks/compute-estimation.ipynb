{
 "cells": [
  {
   "cell_type": "code",
   "execution_count": null,
   "id": "4a2066cc",
   "metadata": {},
   "outputs": [],
   "source": [
    "from datetime import datetime\n",
    "from pathlib import Path\n",
    "\n",
    "import cartopy.crs as ccrs\n",
    "import cartopy.feature as cfeature\n",
    "import geopandas as gpd\n",
    "import matplotlib.path as mpath\n",
    "import matplotlib.pyplot as plt\n",
    "import numpy as np\n",
    "import pandas as pd\n",
    "import seaborn as sns"
   ]
  },
  {
   "cell_type": "code",
   "execution_count": null,
   "id": "ed159fcf",
   "metadata": {},
   "outputs": [],
   "source": [
    "def set_circular_boundary(ax, min_lat=55):\n",
    "    ax.set_extent([-180, 180, min_lat, 90], crs=ccrs.PlateCarree())\n",
    "    ax.add_feature(cfeature.LAND, facecolor=\"lightgrey\")\n",
    "    ax.add_feature(cfeature.BORDERS, linewidth=0.5)\n",
    "    ax.add_feature(cfeature.COASTLINE, linewidth=0.5)\n",
    "    ax.gridlines(draw_labels=True, color=\"gray\", alpha=0.5, linestyle=\"--\")\n",
    "\n",
    "    theta = np.linspace(0, 2 * np.pi, 100)\n",
    "    center, radius = [0.5, 0.5], 0.5\n",
    "    verts = np.vstack([np.sin(theta), np.cos(theta)]).T\n",
    "    circle = mpath.Path(verts * radius + center)\n",
    "    ax.set_boundary(circle, transform=ax.transAxes)\n",
    "\n",
    "\n",
    "polar_kwargs = {\n",
    "    \"cmap\": \"viridis\",\n",
    "    \"legend\": True,\n",
    "    \"transform\": ccrs.PlateCarree(),\n",
    "    \"linewidth\": 0.1,\n",
    "    \"edgecolor\": \"black\",\n",
    "    \"aspect\": \"equal\",\n",
    "}"
   ]
  },
  {
   "cell_type": "code",
   "execution_count": null,
   "id": "8d5ff1de",
   "metadata": {},
   "outputs": [],
   "source": [
    "out = Path(\"/isipd/projects/p_aicore_pf/darts-nextgen/data\")\n",
    "s2stats_gdf = gpd.read_parquet(out / \"s2stats.parquet\")\n",
    "display(s2stats_gdf.head())\n",
    "s2stats_gdf.info()"
   ]
  },
  {
   "cell_type": "code",
   "execution_count": null,
   "id": "69f46c04",
   "metadata": {},
   "outputs": [],
   "source": [
    "counts_per_grid = s2stats_gdf.groupby([\"grid_code\"]).count().id\n",
    "mgrs = gpd.read_file(\"../data/sentinel-2_grids.geojson\")\n",
    "mgrs[\"counts_per_grid\"] = mgrs[\"Name\"].map(counts_per_grid).fillna(0).astype(int)\n",
    "mgrs = mgrs[mgrs.counts_per_grid != 0]"
   ]
  },
  {
   "cell_type": "code",
   "execution_count": null,
   "id": "3f32784c",
   "metadata": {},
   "outputs": [],
   "source": [
    "# Cartopy polar stereographic plot\n",
    "fig, ax = plt.subplots(1, 1, figsize=(16, 8), subplot_kw={\"projection\": ccrs.NorthPolarStereo()})\n",
    "set_circular_boundary(ax, min_lat=55)\n",
    "mgrs.plot(column=\"counts_per_grid\", ax=ax, **polar_kwargs)\n",
    "ax.set_title(\"Counts per Grid (Polar Stereographic)\")"
   ]
  },
  {
   "cell_type": "markdown",
   "id": "1da33f2f",
   "metadata": {},
   "source": [
    "## General Statistics"
   ]
  },
  {
   "cell_type": "code",
   "execution_count": null,
   "id": "af4d1ad2",
   "metadata": {},
   "outputs": [],
   "source": [
    "n_scenes = len(s2stats_gdf)\n",
    "print(f\"Estimated number of scenes: {n_scenes / 1e6:.1f} Million\")\n",
    "total_area = s2stats_gdf[\"area\"].sum()\n",
    "print(f\"Estimated total area: {total_area / 1e9:.1f} Billion km2\")\n",
    "area_per_pixel = 10 * 10 / 1e6  # km2\n",
    "n_pixels = total_area / area_per_pixel\n",
    "print(f\"Estimated number of pixels: {n_pixels / 1e12:.1f} Trillion\")\n",
    "n_bands = 4 + 1  # optical plus scl\n",
    "precision = 16\n",
    "download_size = n_pixels * n_bands * precision / 8\n",
    "print(f\"Estimated download size: {download_size / 1e12:.1f} TB\")"
   ]
  },
  {
   "cell_type": "code",
   "execution_count": null,
   "id": "e747bc10",
   "metadata": {},
   "outputs": [],
   "source": [
    "sns.displot(s2stats_gdf, x=\"date\", aspect=4)"
   ]
  },
  {
   "cell_type": "markdown",
   "id": "d0469a13",
   "metadata": {},
   "source": [
    "### Temporal Extent"
   ]
  },
  {
   "cell_type": "code",
   "execution_count": null,
   "id": "670841aa",
   "metadata": {},
   "outputs": [],
   "source": [
    "years = [2015, 2016, 2017, 2018, 2023, 2024]\n",
    "months = [5, 6, 7, 8, 9, 10]\n",
    "fig, axs = plt.subplots(\n",
    "    2, len(years) // 2, figsize=(10 * len(years) // 2, 20), subplot_kw={\"projection\": ccrs.NorthPolarStereo()}\n",
    ")\n",
    "axs = axs.flatten()\n",
    "for i, year in enumerate(years):\n",
    "    is_year = s2stats_gdf[\"date\"].dt.year == year\n",
    "    is_month = s2stats_gdf[\"date\"].dt.month.isin(months)\n",
    "    counts_per_grid_year = s2stats_gdf[is_year & is_month].groupby([\"grid_code\"]).count().id\n",
    "    mgrs_year = gpd.read_file(\"../data/sentinel-2_grids.geojson\")\n",
    "    mgrs_year[\"counts_per_grid\"] = mgrs_year[\"Name\"].map(counts_per_grid_year).fillna(0).astype(int)\n",
    "    mgrs_year = mgrs_year[mgrs_year.counts_per_grid != 0]\n",
    "\n",
    "    set_circular_boundary(axs[i])\n",
    "    mgrs_year.plot(column=\"counts_per_grid\", ax=axs[i], **polar_kwargs)\n",
    "    axs[i].set_title(f\"Year {year}\")\n",
    "fig.tight_layout()"
   ]
  },
  {
   "cell_type": "code",
   "execution_count": null,
   "id": "cba81ba5",
   "metadata": {},
   "outputs": [],
   "source": [
    "months = [5, 6, 7, 8, 9, 10]\n",
    "fig, axs = plt.subplots(\n",
    "    2, len(months) // 2, figsize=(10 * len(months) // 2, 20), subplot_kw={\"projection\": ccrs.NorthPolarStereo()}\n",
    ")\n",
    "axs = axs.flatten()\n",
    "for i, month in enumerate(months):\n",
    "    is_year = s2stats_gdf[\"date\"].dt.year == 2018\n",
    "    is_month = s2stats_gdf[\"date\"].dt.month == month\n",
    "    counts_per_grid_year = s2stats_gdf[is_year & is_month].groupby([\"grid_code\"]).count().id\n",
    "    mgrs_year = gpd.read_file(\"../data/sentinel-2_grids.geojson\")\n",
    "    mgrs_year[\"counts_per_grid\"] = mgrs_year[\"Name\"].map(counts_per_grid_year).fillna(0).astype(int)\n",
    "    mgrs_year = mgrs_year[mgrs_year.counts_per_grid != 0]\n",
    "\n",
    "    set_circular_boundary(axs[i])\n",
    "    mgrs_year.plot(column=\"counts_per_grid\", ax=axs[i], **polar_kwargs)\n",
    "    axs[i].set_title(f\"{month} 2018\")\n",
    "fig.tight_layout()"
   ]
  },
  {
   "cell_type": "code",
   "execution_count": null,
   "id": "da0cc13a",
   "metadata": {},
   "outputs": [],
   "source": [
    "months = [5, 6, 7, 8, 9, 10]\n",
    "fig, axs = plt.subplots(\n",
    "    2, len(months) // 2, figsize=(10 * len(months) // 2, 20), subplot_kw={\"projection\": ccrs.NorthPolarStereo()}\n",
    ")\n",
    "axs = axs.flatten()\n",
    "for i, month in enumerate(months):\n",
    "    is_year = s2stats_gdf[\"date\"].dt.year == 2019\n",
    "    is_month = s2stats_gdf[\"date\"].dt.month == month\n",
    "    counts_per_grid_year = s2stats_gdf[is_year & is_month].groupby([\"grid_code\"]).count().id\n",
    "    mgrs_year = gpd.read_file(\"../data/sentinel-2_grids.geojson\")\n",
    "    mgrs_year[\"counts_per_grid\"] = mgrs_year[\"Name\"].map(counts_per_grid_year).fillna(0).astype(int)\n",
    "    mgrs_year = mgrs_year[mgrs_year.counts_per_grid != 0]\n",
    "\n",
    "    set_circular_boundary(axs[i])\n",
    "    mgrs_year.plot(column=\"counts_per_grid\", ax=axs[i], **polar_kwargs)\n",
    "    axs[i].set_title(f\"{month} 2019\")\n",
    "fig.tight_layout()"
   ]
  },
  {
   "cell_type": "markdown",
   "id": "57074197",
   "metadata": {},
   "source": [
    "## Relevant Statistics"
   ]
  },
  {
   "cell_type": "code",
   "execution_count": null,
   "id": "bc8e6248",
   "metadata": {},
   "outputs": [],
   "source": [
    "s2stats_cum = []\n",
    "for year in s2stats_gdf.date.dt.year.unique():\n",
    "    is_year = s2stats_gdf.date.dt.year == year\n",
    "    for month in [5, 6, 7, 8, 9, 10]:\n",
    "        is_month = s2stats_gdf.date.dt.month == month\n",
    "        for cc in [1, 5, 10, 40]:\n",
    "            is_cc = s2stats_gdf.cloud_coverage <= cc\n",
    "            s2stats_cum.append(\n",
    "                {\n",
    "                    \"year\": year,\n",
    "                    \"month\": month,\n",
    "                    \"date\": datetime(year, month, 1),\n",
    "                    \"cloud_coverage\": int(cc),\n",
    "                    \"count\": s2stats_gdf[is_year & is_month & is_cc].shape[0],\n",
    "                    \"area\": s2stats_gdf[is_year & is_month & is_cc][\"area\"].sum(),\n",
    "                }\n",
    "            )\n",
    "s2stats_cum = pd.DataFrame(s2stats_cum).sort_values(\"date\")\n",
    "s2stats_cum"
   ]
  },
  {
   "cell_type": "markdown",
   "id": "880f64e3",
   "metadata": {},
   "source": [
    "### Cloud Cover thresholds"
   ]
  },
  {
   "cell_type": "code",
   "execution_count": null,
   "id": "0b1a7780",
   "metadata": {},
   "outputs": [],
   "source": [
    "fig, ax = plt.subplots(1, 1, figsize=(20, 5))\n",
    "sns.barplot(s2stats_cum, x=\"date\", y=\"count\", hue=\"cloud_coverage\", ax=ax)\n",
    "plt.xticks(rotation=90);"
   ]
  },
  {
   "cell_type": "markdown",
   "id": "0638ed2a",
   "metadata": {},
   "source": [
    "### Influence of 1% CC on extent"
   ]
  },
  {
   "cell_type": "code",
   "execution_count": null,
   "id": "f4e32979",
   "metadata": {},
   "outputs": [],
   "source": [
    "years = [2015, 2016, 2017, 2018, 2023, 2024]\n",
    "months = [5, 6, 7, 8, 9, 10]\n",
    "fig, axs = plt.subplots(\n",
    "    2, len(months) // 2, figsize=(10 * len(months) // 2, 20), subplot_kw={\"projection\": ccrs.NorthPolarStereo()}\n",
    ")\n",
    "axs = axs.flatten()\n",
    "for i, year in enumerate(years):\n",
    "    is_year = s2stats_gdf[\"date\"].dt.year == year\n",
    "    is_month = s2stats_gdf[\"date\"].dt.month.isin(months)\n",
    "    is_cct = s2stats_gdf[\"cloud_coverage\"] <= 1\n",
    "    counts_per_grid_year = s2stats_gdf[is_year & is_month & is_cct].groupby([\"grid_code\"]).count().id\n",
    "    mgrs_year = gpd.read_file(\"../data/sentinel-2_grids.geojson\")\n",
    "    mgrs_year[\"counts_per_grid\"] = mgrs_year[\"Name\"].map(counts_per_grid_year).fillna(0).astype(int)\n",
    "    mgrs_year = mgrs_year[mgrs_year.counts_per_grid != 0]\n",
    "\n",
    "    set_circular_boundary(axs[i])\n",
    "    mgrs_year.plot(column=\"counts_per_grid\", ax=axs[i], **polar_kwargs)\n",
    "    axs[i].set_title(f\"Year {year}\")\n",
    "fig.tight_layout()"
   ]
  },
  {
   "cell_type": "markdown",
   "id": "9e5b2a35",
   "metadata": {},
   "source": [
    "### Include October?"
   ]
  },
  {
   "cell_type": "code",
   "execution_count": null,
   "id": "634d40e6",
   "metadata": {},
   "outputs": [],
   "source": [
    "years = [2016, 2017, 2018, 2023]\n",
    "fig, axs = plt.subplots(\n",
    "    1, len(years), figsize=(10 * len(years), 10), subplot_kw={\"projection\": ccrs.NorthPolarStereo()}\n",
    ")\n",
    "axs = axs.flatten()\n",
    "for i, year in enumerate(years):\n",
    "    is_year = s2stats_gdf[\"date\"].dt.year == year\n",
    "    is_month = s2stats_gdf[\"date\"].dt.month == 10\n",
    "    is_cct = s2stats_gdf[\"cloud_coverage\"] <= 10\n",
    "    counts_per_grid_year = s2stats_gdf[is_year & is_month & is_cct].groupby([\"grid_code\"]).count().id\n",
    "    mgrs_year = gpd.read_file(\"../data/sentinel-2_grids.geojson\")\n",
    "    mgrs_year[\"counts_per_grid\"] = mgrs_year[\"Name\"].map(counts_per_grid_year).fillna(0).astype(int)\n",
    "    mgrs_year = mgrs_year[mgrs_year.counts_per_grid != 0]\n",
    "\n",
    "    set_circular_boundary(axs[i])\n",
    "    mgrs_year.plot(column=\"counts_per_grid\", ax=axs[i], **polar_kwargs)\n",
    "    axs[i].set_title(f\"October {year}\")\n",
    "fig.tight_layout()"
   ]
  },
  {
   "cell_type": "markdown",
   "id": "94c7e90f",
   "metadata": {},
   "source": [
    "## Advanced Statistics"
   ]
  },
  {
   "cell_type": "code",
   "execution_count": null,
   "id": "bb8c140a",
   "metadata": {},
   "outputs": [],
   "source": [
    "# Assumption: Only CC <= 10% and month in [6, 7, 8, 9]\n",
    "\n",
    "is_cct = s2stats_gdf[\"cloud_coverage\"] <= 10\n",
    "is_month = s2stats_gdf[\"date\"].dt.month.isin([6, 7, 8, 9])\n",
    "\n",
    "s2stats_gdf_filtered = s2stats_gdf[is_cct & is_month]\n",
    "n_scenes = len(s2stats_gdf_filtered)\n",
    "print(f\"Estimated number of scenes: {n_scenes / 1e3:.1f} Thousand\")\n",
    "total_area = s2stats_gdf_filtered[\"area\"].sum()\n",
    "print(f\"Estimated total area: {total_area / 1e9:.1f} Billion km2\")\n",
    "area_per_pixel = 10 * 10 / 1e6  # km2\n",
    "n_pixels = total_area / area_per_pixel\n",
    "print(f\"Estimated number of pixels: {n_pixels / 1e12:.1f} Trillion\")\n",
    "n_bands = 4 + 1  # optical plus scl\n",
    "precision = 16\n",
    "download_size = n_pixels * n_bands * precision / 8\n",
    "print(f\"Estimated download size: {download_size / 1e12:.1f} TB\")"
   ]
  },
  {
   "cell_type": "code",
   "execution_count": null,
   "id": "1aab8571",
   "metadata": {},
   "outputs": [],
   "source": [
    "# Assumption: Only CC <= 1% and month in [5, 6, 7, 8, 9, 10]\n",
    "\n",
    "is_cct = s2stats_gdf[\"cloud_coverage\"] <= 1\n",
    "is_month = s2stats_gdf[\"date\"].dt.month.isin([5, 6, 7, 8, 9, 10])\n",
    "\n",
    "s2stats_gdf_filtered = s2stats_gdf[is_cct & is_month]\n",
    "n_scenes = len(s2stats_gdf_filtered)\n",
    "print(f\"Estimated number of scenes: {n_scenes / 1e3:.1f} Thousand\")\n",
    "total_area = s2stats_gdf_filtered[\"area\"].sum()\n",
    "print(f\"Estimated total area: {total_area / 1e9:.1f} Billion km2\")\n",
    "area_per_pixel = 10 * 10 / 1e6  # km2\n",
    "n_pixels = total_area / area_per_pixel\n",
    "print(f\"Estimated number of pixels: {n_pixels / 1e12:.1f} Trillion\")\n",
    "n_bands = 4 + 1  # optical plus scl\n",
    "precision = 16\n",
    "download_size = n_pixels * n_bands * precision / 8\n",
    "print(f\"Estimated download size: {download_size / 1e12:.1f} TB\")"
   ]
  },
  {
   "cell_type": "code",
   "execution_count": null,
   "id": "22ab19e0",
   "metadata": {},
   "outputs": [],
   "source": [
    "# Assumption: Only CC <= 10% and month in [6, 7, 8, 9] -> calculate estimate for a single month\n",
    "# Remove 2015-2017 and 2023 to remove bias\n",
    "\n",
    "is_cct = s2stats_gdf[\"cloud_coverage\"] <= 10\n",
    "is_month = s2stats_gdf[\"date\"].dt.month.isin([6, 7, 8, 9])\n",
    "is_year = s2stats_gdf[\"date\"].dt.year.isin([2018, 2019, 2020, 2021, 2022, 2024])\n",
    "\n",
    "s2stats_gdf_filtered = s2stats_gdf[is_cct & is_month & is_year]\n",
    "n_scenes = len(s2stats_gdf_filtered) / (4 * 6)\n",
    "print(f\"Estimated number of scenes: {n_scenes / 1e3:.1f} Thousand\")\n",
    "total_area = s2stats_gdf_filtered[\"area\"].sum() / (4 * 6)\n",
    "print(f\"Estimated total area: {total_area / 1e6:.1f} Million km2\")\n",
    "area_per_pixel = 10 * 10 / 1e6  # km2\n",
    "n_pixels = total_area / area_per_pixel\n",
    "print(f\"Estimated number of pixels: {n_pixels / 1e9:.1f} Billion\")\n",
    "n_bands = 4 + 1  # optical plus scl\n",
    "precision = 16\n",
    "download_size = n_pixels * n_bands * precision / 8\n",
    "print(f\"Estimated download size: {download_size / 1e12:.1f} TB\")"
   ]
  },
  {
   "cell_type": "code",
   "execution_count": null,
   "id": "0a25015b",
   "metadata": {},
   "outputs": [],
   "source": [
    "# Assumption: Only CC <= 1% and month in [5, 6, 7, 8, 9, 10] -> calculate estimate for a single month\n",
    "# Remove 2015-2017 and 2023 to remove bias\n",
    "\n",
    "is_cct = s2stats_gdf[\"cloud_coverage\"] <= 1\n",
    "is_month = s2stats_gdf[\"date\"].dt.month.isin([5, 6, 7, 8, 9, 10])\n",
    "is_year = s2stats_gdf[\"date\"].dt.year.isin([2018, 2019, 2020, 2021, 2022, 2024])\n",
    "\n",
    "s2stats_gdf_filtered = s2stats_gdf[is_cct & is_month & is_year]\n",
    "n_scenes = len(s2stats_gdf_filtered) / (4 * 6)\n",
    "print(f\"Estimated number of scenes: {n_scenes / 1e3:.1f} Thousand\")\n",
    "total_area = s2stats_gdf_filtered[\"area\"].sum() / (4 * 6)\n",
    "print(f\"Estimated total area: {total_area / 1e6:.1f} Million km2\")\n",
    "area_per_pixel = 10 * 10 / 1e6  # km2\n",
    "n_pixels = total_area / area_per_pixel\n",
    "print(f\"Estimated number of pixels: {n_pixels / 1e9:.1f} Billion\")\n",
    "n_bands = 4 + 1  # optical plus scl\n",
    "precision = 16\n",
    "download_size = n_pixels * n_bands * precision / 8\n",
    "print(f\"Estimated download size: {download_size / 1e12:.1f} TB\")"
   ]
  },
  {
   "cell_type": "code",
   "execution_count": null,
   "id": "93ee4110",
   "metadata": {},
   "outputs": [],
   "source": []
  }
 ],
 "metadata": {
  "kernelspec": {
   "display_name": "darts-nextgen",
   "language": "python",
   "name": "python3"
  },
  "language_info": {
   "codemirror_mode": {
    "name": "ipython",
    "version": 3
   },
   "file_extension": ".py",
   "mimetype": "text/x-python",
   "name": "python",
   "nbconvert_exporter": "python",
   "pygments_lexer": "ipython3",
   "version": "3.12.9"
  }
 },
 "nbformat": 4,
 "nbformat_minor": 5
}
