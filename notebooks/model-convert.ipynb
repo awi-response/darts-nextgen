{
 "cells": [
  {
   "cell_type": "code",
   "execution_count": 2,
   "metadata": {},
   "outputs": [],
   "source": [
    "import segmentation_models_pytorch as smp\n",
    "import torch\n",
    "import yaml"
   ]
  },
  {
   "cell_type": "markdown",
   "metadata": {},
   "source": [
    "## Planet based RTS v6 notcvis"
   ]
  },
  {
   "cell_type": "code",
   "execution_count": 2,
   "metadata": {},
   "outputs": [
    {
     "data": {
      "text/plain": [
       "{'architecture': 'UnetPlusPlus',\n",
       " 'encoder': 'resnet34',\n",
       " 'encoder_weights': 'random',\n",
       " 'input_channels': 7}"
      ]
     },
     "execution_count": 2,
     "metadata": {},
     "output_type": "execute_result"
    }
   ],
   "source": [
    "# Load config and checkpoint\n",
    "path = \"../models/old/RTS_v6_notcvis/checkpoints/41.pt\"\n",
    "checkpoint = torch.load(path, map_location=\"cpu\")\n",
    "\n",
    "with open(\"../models/old/RTS_v6_notcvis/config.yml\") as f:\n",
    "    config = yaml.safe_load(f)\n",
    "config[\"model\"]"
   ]
  },
  {
   "cell_type": "code",
   "execution_count": 3,
   "metadata": {},
   "outputs": [
    {
     "data": {
      "text/plain": [
       "<All keys matched successfully>"
      ]
     },
     "execution_count": 3,
     "metadata": {},
     "output_type": "execute_result"
    }
   ],
   "source": [
    "# Try loading\n",
    "model = smp.create_model(\n",
    "    arch=config[\"model\"][\"architecture\"],\n",
    "    encoder_name=config[\"model\"][\"encoder\"],\n",
    "    in_channels=config[\"model\"][\"input_channels\"],\n",
    ")\n",
    "model = torch.nn.DataParallel(model)\n",
    "model.load_state_dict(checkpoint)"
   ]
  },
  {
   "cell_type": "code",
   "execution_count": null,
   "metadata": {},
   "outputs": [],
   "source": [
    "# Merge config and checkpoint\n",
    "torch.save(\n",
    "    {\n",
    "        \"config\": {\n",
    "            \"model\": {\n",
    "                \"arch\": config[\"model\"][\"architecture\"],\n",
    "                \"encoder_name\": config[\"model\"][\"encoder\"],\n",
    "                \"in_channels\": config[\"model\"][\"input_channels\"],\n",
    "                \"classes\": 1,\n",
    "            },\n",
    "            \"input_combination\": [\n",
    "                \"ndvi\",\n",
    "                \"blue\",\n",
    "                \"green\",\n",
    "                \"red\",\n",
    "                \"nir\",\n",
    "                \"relative_elevation\",\n",
    "                \"slope\",\n",
    "            ],\n",
    "            \"norm_factors\": {\n",
    "                \"red\": 1 / 3000,\n",
    "                \"green\": 1 / 3000,\n",
    "                \"blue\": 1 / 3000,\n",
    "                \"nir\": 1 / 3000,\n",
    "                \"ndvi\": 1,\n",
    "                \"relative_elevation\": 1 / 30000,\n",
    "                \"slope\": 1 / 90,\n",
    "            },\n",
    "            \"patch_size\": 1024,\n",
    "            \"model_framework\": \"smp\",\n",
    "        },\n",
    "        \"statedict\": model.module.state_dict(),\n",
    "    },\n",
    "    \"../models/RTS_v6_notcvis.pt\",\n",
    ")"
   ]
  },
  {
   "cell_type": "code",
   "execution_count": 5,
   "metadata": {},
   "outputs": [
    {
     "data": {
      "text/plain": [
       "<All keys matched successfully>"
      ]
     },
     "execution_count": 5,
     "metadata": {},
     "output_type": "execute_result"
    }
   ],
   "source": [
    "# Test it\n",
    "checkpoint = torch.load(\"../models/RTS_v6_notcvis.pt\")\n",
    "model = smp.create_model(**checkpoint[\"config\"][\"model\"])\n",
    "model.load_state_dict(checkpoint[\"statedict\"])"
   ]
  },
  {
   "cell_type": "markdown",
   "metadata": {},
   "source": [
    "## Planet based RTS v6 tcvis"
   ]
  },
  {
   "cell_type": "code",
   "execution_count": null,
   "metadata": {},
   "outputs": [
    {
     "name": "stdout",
     "output_type": "stream",
     "text": [
      "{'architecture': 'UnetPlusPlus', 'encoder': 'resnet34', 'encoder_weights': 'random', 'input_channels': 10}\n",
      "<All keys matched successfully>\n"
     ]
    },
    {
     "data": {
      "text/plain": [
       "<All keys matched successfully>"
      ]
     },
     "execution_count": 6,
     "metadata": {},
     "output_type": "execute_result"
    }
   ],
   "source": [
    "# Load config and checkpoint\n",
    "path = \"../models/old/RTS_v6_tcvis/checkpoints/14.pt\"\n",
    "checkpoint = torch.load(path, map_location=\"cpu\")\n",
    "\n",
    "with open(\"../models/old/RTS_v6_tcvis/config.yml\") as f:\n",
    "    config = yaml.safe_load(f)\n",
    "print(config[\"model\"])\n",
    "\n",
    "# Try loading\n",
    "model = smp.create_model(\n",
    "    arch=config[\"model\"][\"architecture\"],\n",
    "    encoder_name=config[\"model\"][\"encoder\"],\n",
    "    in_channels=config[\"model\"][\"input_channels\"],\n",
    ")\n",
    "model = torch.nn.DataParallel(model)\n",
    "print(model.load_state_dict(checkpoint))\n",
    "\n",
    "# Merge config and checkpoint\n",
    "torch.save(\n",
    "    {\n",
    "        \"config\": {\n",
    "            \"model\": {\n",
    "                \"arch\": config[\"model\"][\"architecture\"],\n",
    "                \"encoder_name\": config[\"model\"][\"encoder\"],\n",
    "                \"in_channels\": config[\"model\"][\"input_channels\"],\n",
    "                \"classes\": 1,\n",
    "            },\n",
    "            \"input_combination\": [\n",
    "                \"ndvi\",\n",
    "                \"blue\",\n",
    "                \"green\",\n",
    "                \"red\",\n",
    "                \"nir\",\n",
    "                \"relative_elevation\",\n",
    "                \"slope\",\n",
    "                \"tc_brightness\",\n",
    "                \"tc_greenness\",\n",
    "                \"tc_wetness\",\n",
    "            ],\n",
    "            \"norm_factors\": {\n",
    "                \"red\": 1 / 3000,\n",
    "                \"green\": 1 / 3000,\n",
    "                \"blue\": 1 / 3000,\n",
    "                \"nir\": 1 / 3000,\n",
    "                \"ndvi\": 1,\n",
    "                \"relative_elevation\": 1 / 30000,\n",
    "                \"slope\": 1 / 90,\n",
    "                \"tc_brightness\": 1 / 255,\n",
    "                \"tc_greenness\": 1 / 255,\n",
    "                \"tc_wetness\": 1 / 255,\n",
    "            },\n",
    "            \"patch_size\": 1024,\n",
    "            \"model_framework\": \"smp\",\n",
    "        },\n",
    "        \"statedict\": model.module.state_dict(),\n",
    "    },\n",
    "    \"../models/RTS_v6_tcvis.pt\",\n",
    ")\n",
    "\n",
    "# Test it\n",
    "checkpoint = torch.load(\"../models/RTS_v6_tcvis.pt\")\n",
    "model = smp.create_model(**checkpoint[\"config\"][\"model\"])\n",
    "model.load_state_dict(checkpoint[\"statedict\"])"
   ]
  }
 ],
 "metadata": {
  "kernelspec": {
   "display_name": ".venv",
   "language": "python",
   "name": "python3"
  },
  "language_info": {
   "codemirror_mode": {
    "name": "ipython",
    "version": 3
   },
   "file_extension": ".py",
   "mimetype": "text/x-python",
   "name": "python",
   "nbconvert_exporter": "python",
   "pygments_lexer": "ipython3",
   "version": "3.11.9"
  }
 },
 "nbformat": 4,
 "nbformat_minor": 2
}
