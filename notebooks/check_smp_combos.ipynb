{
 "cells": [
  {
   "cell_type": "code",
   "execution_count": 1,
   "metadata": {},
   "outputs": [],
   "source": [
    "import itertools\n",
    "\n",
    "import pandas as pd\n",
    "import torch\n",
    "from rich.progress import track\n",
    "from segmentation_models_pytorch import create_model"
   ]
  },
  {
   "cell_type": "code",
   "execution_count": null,
   "metadata": {},
   "outputs": [],
   "source": [
    "archs = [\n",
    "    \"Unet\",\n",
    "    # \"UnetPlusPlus\",\n",
    "    # \"DeepLabV3\",\n",
    "    # \"DeepLabV3Plus\",\n",
    "    \"MAnet\",\n",
    "    \"UPerNet\",\n",
    "    \"Segformer\",\n",
    "]\n",
    "\n",
    "# All around 20M parameters\n",
    "encoders = [\n",
    "    \"resnet50\",\n",
    "    \"resnext50_32x4d\",\n",
    "    \"mit_b2\",\n",
    "    \"tu-convnextv2_tiny\",\n",
    "    \"tu-hiera_tiny_224\",\n",
    "    \"tu-mambaout_tiny\",\n",
    "    \"tu-maxvit_tiny_rw_224\",\n",
    "    \"tu-swin_s3_tiny_224\",\n",
    "]\n",
    "\n",
    "\n",
    "c = 11\n",
    "x = torch.randn(1, c, 256, 256)\n",
    "x = torch.randn(1, c, 224, 224)\n",
    "\n",
    "combs = []\n",
    "for arch, encoder in track(itertools.product(archs, encoders), total=len(archs) * len(encoders)):\n",
    "    error, n_params, out_shape = None, None, None\n",
    "    try:\n",
    "        model = create_model(arch, encoder, encoder_weights=None, in_channels=c)\n",
    "        model.eval()\n",
    "        y_hat = model(x)\n",
    "        out_shape = y_hat.shape\n",
    "        n_params = sum(p.numel() for p in model.parameters())\n",
    "        n_params /= 1000 * 1000\n",
    "        n_params = round(n_params, 2)\n",
    "        # print(f\"{arch} {encoder} {n_params / 1000 / 1000:.2f}M\")\n",
    "    except Exception as e:\n",
    "        error = str(e)\n",
    "    combs.append({\"arch\": arch, \"encoder\": encoder, \"n_params\": n_params, \"out_shape\": out_shape, \"error\": error})\n",
    "\n",
    "combs = pd.DataFrame(combs)\n",
    "combs"
   ]
  },
  {
   "cell_type": "code",
   "execution_count": null,
   "metadata": {},
   "outputs": [],
   "source": []
  }
 ],
 "metadata": {
  "kernelspec": {
   "display_name": ".venv",
   "language": "python",
   "name": "python3"
  },
  "language_info": {
   "codemirror_mode": {
    "name": "ipython",
    "version": 3
   },
   "file_extension": ".py",
   "mimetype": "text/x-python",
   "name": "python",
   "nbconvert_exporter": "python",
   "pygments_lexer": "ipython3",
   "version": "3.11.9"
  }
 },
 "nbformat": 4,
 "nbformat_minor": 2
}
