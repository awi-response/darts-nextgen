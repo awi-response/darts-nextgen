{
 "cells": [
  {
   "cell_type": "code",
   "execution_count": null,
   "metadata": {},
   "outputs": [],
   "source": [
    "from darts_segmentation.mock_data import mock_tile\n",
    "from lovely_tensors import monkey_patch\n",
    "from rich import traceback\n",
    "\n",
    "monkey_patch()\n",
    "traceback.install(show_locals=True)\n",
    "\n",
    "ds = mock_tile(\"planet\")\n",
    "ds"
   ]
  },
  {
   "cell_type": "code",
   "execution_count": null,
   "metadata": {},
   "outputs": [],
   "source": [
    "from darts_segmentation.segment import SMPSegmenter\n",
    "\n",
    "model = SMPSegmenter(\"../models/RTS_v6_tcvis.pt\")\n",
    "out = model.segment_tile(ds)\n",
    "out"
   ]
  },
  {
   "cell_type": "code",
   "execution_count": null,
   "metadata": {},
   "outputs": [],
   "source": [
    "from darts_ensemble.ensemble_v1 import EnsembleV1\n",
    "\n",
    "ensemble = EnsembleV1(\"../models/RTS_v6_tcvis.pt\", \"../models/RTS_v6_notcvis.pt\")\n",
    "out = ensemble(ds)\n",
    "out"
   ]
  },
  {
   "cell_type": "code",
   "execution_count": null,
   "metadata": {},
   "outputs": [],
   "source": [
    "from darts_postprocessing.prepare_export import prepare_export\n",
    "\n",
    "final = prepare_export(out)\n",
    "final"
   ]
  },
  {
   "cell_type": "code",
   "execution_count": 5,
   "metadata": {},
   "outputs": [],
   "source": [
    "final.to_netcdf(\"../data/test.nc\")"
   ]
  },
  {
   "cell_type": "code",
   "execution_count": null,
   "metadata": {},
   "outputs": [],
   "source": [
    "import xarray as xr\n",
    "\n",
    "xr.open_dataset(\"../data/test.nc\")"
   ]
  },
  {
   "cell_type": "code",
   "execution_count": null,
   "metadata": {},
   "outputs": [],
   "source": []
  }
 ],
 "metadata": {
  "kernelspec": {
   "display_name": ".venv",
   "language": "python",
   "name": "python3"
  },
  "language_info": {
   "codemirror_mode": {
    "name": "ipython",
    "version": 3
   },
   "file_extension": ".py",
   "mimetype": "text/x-python",
   "name": "python",
   "nbconvert_exporter": "python",
   "pygments_lexer": "ipython3",
   "version": "3.11.9"
  }
 },
 "nbformat": 4,
 "nbformat_minor": 2
}
