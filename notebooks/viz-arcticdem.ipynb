{
 "cells": [
  {
   "cell_type": "code",
   "execution_count": null,
   "metadata": {},
   "outputs": [],
   "source": [
    "import logging\n",
    "from pathlib import Path\n",
    "\n",
    "# Create a cartopy plot with CRS is EPSG:3413 (Focus on north pole)\n",
    "import cartopy.crs as ccrs\n",
    "import cartopy.feature as cfeature\n",
    "import geopandas as gpd\n",
    "import matplotlib.path as mpath\n",
    "import matplotlib.pyplot as plt\n",
    "import numpy as np\n",
    "import rioxarray  # noqa: F401\n",
    "import xarray as xr\n",
    "import zarr\n",
    "from darts_acquisition.arcticdem.datacube import download_arcticdem_extent\n",
    "from rich import traceback\n",
    "from rich.logging import RichHandler\n",
    "\n",
    "from darts.utils.logging import setup_logging\n",
    "\n",
    "setup_logging()\n",
    "logging.basicConfig(\n",
    "    level=logging.INFO,\n",
    "    format=\"%(message)s\",\n",
    "    datefmt=\"[%X]\",\n",
    "    handlers=[RichHandler(rich_tracebacks=True)],\n",
    ")\n",
    "traceback.install(show_locals=False)"
   ]
  },
  {
   "cell_type": "code",
   "execution_count": null,
   "metadata": {},
   "outputs": [],
   "source": [
    "DATA_ROOT = Path(\"../data\")\n",
    "\n",
    "fpath = DATA_ROOT / \"input/planet/PSOrthoTile/4974017/5854937_4974017_2022-08-14_2475\"\n",
    "arcticdem_dir = DATA_ROOT / \"download/arcticdem\"\n",
    "resolution = 32\n",
    "coarsen = 10"
   ]
  },
  {
   "cell_type": "code",
   "execution_count": null,
   "metadata": {},
   "outputs": [],
   "source": [
    "extent_fpath = arcticdem_dir / f\"ArcticDEM_Mosaic_Index_v4_1_{resolution}m.parquet\"\n",
    "if not extent_fpath.exists():\n",
    "    download_arcticdem_extent(arcticdem_dir)\n",
    "extent = gpd.read_parquet(extent_fpath)\n",
    "extent.head()"
   ]
  },
  {
   "cell_type": "code",
   "execution_count": null,
   "metadata": {},
   "outputs": [],
   "source": [
    "datacube_fpath = arcticdem_dir / f\"datacube_{resolution}m_v4.1.zarr\"\n",
    "storage = zarr.storage.FSStore(datacube_fpath)\n",
    "\n",
    "# Check if zarr data already contains the data via the attrs\n",
    "arcticdem_datacube = xr.open_zarr(storage, mask_and_scale=True)\n",
    "loaded_scenes = arcticdem_datacube.attrs.get(\"loaded_scenes\", []).copy()\n",
    "\n",
    "lowres_data = []\n",
    "for sceneinfo in extent.itertuples():\n",
    "    if sceneinfo.dem_id not in loaded_scenes:\n",
    "        continue\n",
    "\n",
    "    geom = sceneinfo.SHAPE\n",
    "    scene_data = arcticdem_datacube.dem.sel(\n",
    "        x=slice(geom.bounds[0], geom.bounds[2]), y=slice(geom.bounds[3], geom.bounds[1])\n",
    "    )\n",
    "    scene_data_lowres = scene_data.coarsen(x=coarsen, y=coarsen, boundary=\"trim\").mean()\n",
    "    lowres_data.append(scene_data_lowres)\n",
    "len(lowres_data)"
   ]
  },
  {
   "cell_type": "code",
   "execution_count": null,
   "metadata": {},
   "outputs": [],
   "source": [
    "lowres_data_da = xr.combine_by_coords(lowres_data).dem\n",
    "lowres_data_da.rio.write_crs(\"EPSG:3413\", inplace=True)\n",
    "lowres_data_da"
   ]
  },
  {
   "cell_type": "code",
   "execution_count": null,
   "metadata": {},
   "outputs": [],
   "source": [
    "lowres_data_da.plot()"
   ]
  },
  {
   "cell_type": "code",
   "execution_count": null,
   "metadata": {},
   "outputs": [],
   "source": [
    "# Define the projection\n",
    "projection = ccrs.Stereographic(central_latitude=90, central_longitude=-45, true_scale_latitude=70)\n",
    "\n",
    "# Create a figure\n",
    "fig, ax = plt.subplots(figsize=(10, 10), subplot_kw={\"projection\": projection})\n",
    "\n",
    "# Set the extent to focus on the North Pole\n",
    "ax.set_extent([-180, 180, 60, 90], crs=ccrs.PlateCarree())\n",
    "\n",
    "# Add features\n",
    "ax.add_feature(cfeature.LAND, zorder=0, edgecolor=\"black\", facecolor=\"white\")\n",
    "ax.add_feature(cfeature.OCEAN, zorder=0, facecolor=\"lightgrey\")\n",
    "ax.add_feature(cfeature.COASTLINE)\n",
    "ax.add_feature(cfeature.BORDERS, linestyle=\":\")\n",
    "ax.add_feature(cfeature.LAKES, alpha=0.5)\n",
    "ax.add_feature(cfeature.RIVERS)\n",
    "\n",
    "# Add gridlines\n",
    "gl = ax.gridlines(draw_labels=True)\n",
    "gl.top_labels = False\n",
    "gl.right_labels = False\n",
    "\n",
    "# Compute a circle in axes coordinates, which we can use as a boundary\n",
    "# for the map. We can pan/zoom as much as we like - the boundary will be\n",
    "# permanently circular.\n",
    "theta = np.linspace(0, 2 * np.pi, 100)\n",
    "center, radius = [0.5, 0.5], 0.5\n",
    "verts = np.vstack([np.sin(theta), np.cos(theta)]).T\n",
    "circle = mpath.Path(verts * radius + center)\n",
    "\n",
    "ax.set_boundary(circle, transform=ax.transAxes)\n",
    "\n",
    "# Add the xarray data\n",
    "lowres_data_da.rio.reproject(\"epsg:4326\").plot(ax=ax, transform=ccrs.PlateCarree(), cmap=\"viridis\", add_colorbar=False)\n",
    "\n",
    "# Show the plot\n",
    "plt.show()"
   ]
  }
 ],
 "metadata": {
  "kernelspec": {
   "display_name": ".venv",
   "language": "python",
   "name": "python3"
  },
  "language_info": {
   "codemirror_mode": {
    "name": "ipython",
    "version": 3
   },
   "file_extension": ".py",
   "mimetype": "text/x-python",
   "name": "python",
   "nbconvert_exporter": "python",
   "pygments_lexer": "ipython3",
   "version": "3.11.9"
  }
 },
 "nbformat": 4,
 "nbformat_minor": 2
}
