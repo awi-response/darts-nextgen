{
 "cells": [
  {
   "cell_type": "code",
   "execution_count": null,
   "metadata": {},
   "outputs": [],
   "source": [
    "import logging\n",
    "from pathlib import Path\n",
    "\n",
    "import rioxarray  # noqa: F401\n",
    "from darts_preprocessing.data_sources.s2 import load_s2_scene\n",
    "from darts_superresolution import Sentinel2Upscaler\n",
    "from rich.logging import RichHandler\n",
    "from rich.traceback import install\n",
    "\n",
    "from darts.utils.logging import setup_logging\n",
    "\n",
    "setup_logging()\n",
    "logging.basicConfig(\n",
    "    level=logging.INFO,\n",
    "    format=\"%(message)s\",\n",
    "    datefmt=\"[%X]\",\n",
    "    handlers=[RichHandler(rich_tracebacks=True)],\n",
    ")\n",
    "\n",
    "install(show_locals=False)"
   ]
  },
  {
   "cell_type": "code",
   "execution_count": null,
   "metadata": {},
   "outputs": [],
   "source": [
    "DATA_ROOT = Path(\"../data/input\")\n",
    "fpath = DATA_ROOT / \"sentinel2\" / \"20210818T223529_20210818T223531_T03WXP\"\n",
    "\n",
    "tile = load_s2_scene(fpath)\n",
    "display(tile)\n",
    "tile.red.plot()"
   ]
  },
  {
   "cell_type": "code",
   "execution_count": null,
   "metadata": {},
   "outputs": [],
   "source": [
    "subtile = tile.isel(x=slice(2000, 2060), y=slice(1000, 1060))\n",
    "subtile.red.plot()"
   ]
  },
  {
   "cell_type": "code",
   "execution_count": null,
   "metadata": {},
   "outputs": [],
   "source": [
    "upscaler = Sentinel2Upscaler(\"../models/s2super_v1.pt\")\n",
    "tile_upscaled = upscaler.upscale_s2_to_planet(subtile)\n",
    "tile_upscaled"
   ]
  },
  {
   "cell_type": "code",
   "execution_count": null,
   "metadata": {},
   "outputs": [],
   "source": [
    "tile_upscaled.shape"
   ]
  },
  {
   "cell_type": "code",
   "execution_count": null,
   "metadata": {},
   "outputs": [],
   "source": [
    "import matplotlib.pyplot as plt\n",
    "\n",
    "plt.pcolormesh(tile_upscaled[3])\n",
    "plt.colorbar()"
   ]
  }
 ],
 "metadata": {
  "kernelspec": {
   "display_name": ".venv",
   "language": "python",
   "name": "python3"
  },
  "language_info": {
   "codemirror_mode": {
    "name": "ipython",
    "version": 3
   },
   "file_extension": ".py",
   "mimetype": "text/x-python",
   "name": "python",
   "nbconvert_exporter": "python",
   "pygments_lexer": "ipython3",
   "version": "3.11.9"
  }
 },
 "nbformat": 4,
 "nbformat_minor": 2
}
