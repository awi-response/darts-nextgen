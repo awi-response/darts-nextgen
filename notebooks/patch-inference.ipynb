{
 "cells": [
  {
   "cell_type": "markdown",
   "metadata": {},
   "source": [
    "# How we create patches from tiles"
   ]
  },
  {
   "cell_type": "code",
   "execution_count": 1,
   "metadata": {},
   "outputs": [],
   "source": [
    "import lovely_tensors as lt\n",
    "import matplotlib.patches as mpl_patches\n",
    "import matplotlib.pyplot as plt\n",
    "import torch\n",
    "from darts_segmentation.utils import patch_coords, predict_in_patches"
   ]
  },
  {
   "cell_type": "code",
   "execution_count": 2,
   "metadata": {},
   "outputs": [],
   "source": [
    "# Example parameters\n",
    "h, w = 30, 30\n",
    "patch_size = 8\n",
    "overlap = 3\n",
    "\n",
    "# Create an example tile (already as torch tensor)\n",
    "tensor_tiles = torch.rand((3, 1, h, w)) * 0.2"
   ]
  },
  {
   "cell_type": "markdown",
   "metadata": {},
   "source": [
    "## Patching"
   ]
  },
  {
   "cell_type": "code",
   "execution_count": null,
   "metadata": {},
   "outputs": [],
   "source": [
    "# Visualize the patching\n",
    "fig, ax = plt.subplots(1, 1, figsize=(20, 20))\n",
    "ax.imshow(tensor_tiles[0, 0], vmin=0, vmax=1, cmap=\"gray\")\n",
    "colors = [\"red\", \"orange\", \"grey\", \"brown\", \"yellow\", \"purple\", \"teal\"]\n",
    "for i, (y, x, patch_idx_y, patch_idx_x) in enumerate(patch_coords(h, w, patch_size, overlap)):\n",
    "    c = colors[i % len(colors)]\n",
    "    rect = mpl_patches.Rectangle(\n",
    "        (x - 0.5, y - 0.5), width=patch_size, height=patch_size, linewidth=3, edgecolor=c, facecolor=c, alpha=0.5\n",
    "    )\n",
    "    ax.add_patch(rect)\n",
    "    ax.text(x, y, f\"{i}: {patch_idx_x}-{patch_idx_y} ({x}-{y})\", bbox={\"facecolor\": \"white\"})"
   ]
  },
  {
   "cell_type": "markdown",
   "metadata": {},
   "source": [
    "## Weights of overlap"
   ]
  },
  {
   "cell_type": "code",
   "execution_count": null,
   "metadata": {},
   "outputs": [],
   "source": [
    "# Example parameters\n",
    "h, w = 8000, 8000\n",
    "patch_size = 1024\n",
    "overlap = 128\n",
    "\n",
    "# Create an example tile (already as torch tensor)\n",
    "tensor_tiles = torch.rand((3, 1, h, w)) * 0.2\n",
    "\n",
    "\n",
    "def mock_model(x: torch.Tensor) -> torch.Tensor:  # noqa: D103\n",
    "    return x * 3\n",
    "\n",
    "\n",
    "res, weights = predict_in_patches(\n",
    "    mock_model, tensor_tiles, patch_size, overlap, batch_size=1, device=\"cpu\", return_weights=True\n",
    ")\n",
    "expected = torch.sigmoid(tensor_tiles * 3).squeeze(1)\n",
    "\n",
    "diff = torch.abs(res - expected)\n",
    "\n",
    "print(f\"{'expected': <20}{lt.lovely(expected)}\")\n",
    "print(f\"{'res': <20}{lt.lovely(res)}\")\n",
    "print(f\"{'diff': <20}{lt.lovely(diff)}\")\n",
    "print(f\"{'weights': <20}{lt.lovely(weights)}\")\n"
   ]
  },
  {
   "cell_type": "code",
   "execution_count": null,
   "metadata": {},
   "outputs": [],
   "source": [
    "fig, axs = plt.subplots(1, 3, figsize=(20, 10))\n",
    "axs[0].imshow(res[0], vmin=0, vmax=1, cmap=\"gray\")\n",
    "axs[0].set_title(\"Result\")\n",
    "axs[1].imshow(expected[0], vmin=0, vmax=1, cmap=\"gray\")\n",
    "axs[1].set_title(\"Input\")\n",
    "im = axs[2].imshow(diff[0], cmap=\"gray\")\n",
    "axs[2].set_title(\"Difference\")\n",
    "plt.colorbar(im)"
   ]
  },
  {
   "cell_type": "code",
   "execution_count": null,
   "metadata": {},
   "outputs": [],
   "source": [
    "plt.imshow(diff[0], cmap=\"viridis\", vmin=0, vmax=1e-8)\n",
    "plt.colorbar()"
   ]
  },
  {
   "cell_type": "code",
   "execution_count": null,
   "metadata": {},
   "outputs": [],
   "source": [
    "plt.imshow(diff[0], cmap=\"viridis\", vmin=0, vmax=1e-8)\n",
    "plt.colorbar()"
   ]
  },
  {
   "cell_type": "code",
   "execution_count": null,
   "metadata": {},
   "outputs": [],
   "source": [
    "# Create a soft margin for the patches\n",
    "margin_ramp = torch.cat(\n",
    "    [\n",
    "        torch.linspace(0, 1, overlap),\n",
    "        torch.ones(patch_size - 2 * overlap),\n",
    "        torch.linspace(1, 0, overlap),\n",
    "    ]\n",
    ")\n",
    "soft_margin = margin_ramp.reshape(1, 1, patch_size) * margin_ramp.reshape(1, patch_size, 1)\n",
    "plt.imshow(soft_margin[0], cmap=\"gray\")\n",
    "plt.title(\"Soft margin\")\n",
    "plt.colorbar()"
   ]
  },
  {
   "cell_type": "code",
   "execution_count": null,
   "metadata": {},
   "outputs": [],
   "source": [
    "plt.imshow(weights[0], cmap=\"hot\")\n",
    "# add colorbar\n",
    "plt.colorbar()"
   ]
  }
 ],
 "metadata": {
  "kernelspec": {
   "display_name": ".venv",
   "language": "python",
   "name": "python3"
  },
  "language_info": {
   "codemirror_mode": {
    "name": "ipython",
    "version": 3
   },
   "file_extension": ".py",
   "mimetype": "text/x-python",
   "name": "python",
   "nbconvert_exporter": "python",
   "pygments_lexer": "ipython3",
   "version": "3.11.9"
  }
 },
 "nbformat": 4,
 "nbformat_minor": 2
}
