{
 "cells": [
  {
   "cell_type": "markdown",
   "metadata": {},
   "source": [
    "# How we create patches from tiles"
   ]
  },
  {
   "cell_type": "code",
   "execution_count": 1,
   "metadata": {},
   "outputs": [],
   "source": [
    "import torch\n",
    "from darts_segmentation.utils import patch_coords\n",
    "import matplotlib.patches as mpl_patches\n",
    "import matplotlib.pyplot as plt"
   ]
  },
  {
   "cell_type": "code",
   "execution_count": 4,
   "metadata": {},
   "outputs": [],
   "source": [
    "# Example parameters\n",
    "h, w = 30, 30\n",
    "patch_size = 8\n",
    "overlap = 3\n",
    "\n",
    "# Create an example tile (already as torch tensor)\n",
    "tensor_tiles = torch.rand((3, 1, h, w))"
   ]
  },
  {
   "cell_type": "code",
   "execution_count": null,
   "metadata": {},
   "outputs": [],
   "source": [
    "# Visualize the patching\n",
    "fig, ax = plt.subplots(1, 1, figsize=(20, 20))\n",
    "ax.imshow(tensor_tiles[0, 0])\n",
    "colors = [\"red\", \"orange\", \"grey\", \"brown\", \"yellow\", \"purple\", \"teal\"]\n",
    "for i, (y, x, patch_idx_y, patch_idx_x) in enumerate(patch_coords(h, w, patch_size, overlap)):\n",
    "    c = colors[i % len(colors)]\n",
    "    rect = mpl_patches.Rectangle(\n",
    "        (x - 0.5, y - 0.5), width=patch_size, height=patch_size, linewidth=3, edgecolor=c, facecolor=c, alpha=0.5\n",
    "    )\n",
    "    ax.add_patch(rect)\n",
    "    ax.text(x, y, f\"{i}: {patch_idx_x}-{patch_idx_y} ({x}-{y})\", bbox={\"facecolor\": \"white\"})"
   ]
  },
  {
   "cell_type": "code",
   "execution_count": null,
   "metadata": {},
   "outputs": [],
   "source": []
  }
 ],
 "metadata": {
  "kernelspec": {
   "display_name": ".venv",
   "language": "python",
   "name": "python3"
  },
  "language_info": {
   "codemirror_mode": {
    "name": "ipython",
    "version": 3
   },
   "file_extension": ".py",
   "mimetype": "text/x-python",
   "name": "python",
   "nbconvert_exporter": "python",
   "pygments_lexer": "ipython3",
   "version": "3.11.9"
  }
 },
 "nbformat": 4,
 "nbformat_minor": 2
}
