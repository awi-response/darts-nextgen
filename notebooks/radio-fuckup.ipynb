{
 "cells": [
  {
   "cell_type": "code",
   "execution_count": null,
   "id": "b4625399",
   "metadata": {},
   "outputs": [],
   "source": [
    "from pathlib import Path\n",
    "\n",
    "import ee\n",
    "import numpy as np\n",
    "import odc.geo.xr\n",
    "import xarray as xr\n",
    "from matplotlib import pyplot as plt\n",
    "\n",
    "ee.Initialize()"
   ]
  },
  {
   "cell_type": "code",
   "execution_count": null,
   "id": "eb1469ab",
   "metadata": {},
   "outputs": [],
   "source": [
    "def _plot_optical(tile, vmax=10000):\n",
    "    slc = slice(None, None, 20)\n",
    "    tile[[\"red\", \"green\", \"blue\", \"nir\"]].sel(x=slc, y=slc).to_dataarray().plot(\n",
    "        col=\"variable\", col_wrap=2, vmin=0, vmax=vmax\n",
    "    )\n",
    "\n",
    "\n",
    "def _plot_optical_hist(tile, vmax=10000):\n",
    "    slc = slice(None, None, 20)\n",
    "    fig, axs = plt.subplots(2, 2, figsize=(6, 6))\n",
    "    for i, band in enumerate([\"red\", \"green\", \"blue\", \"nir\"]):\n",
    "        ax = axs[i // 2, i % 2]\n",
    "        tile[band].plot.hist(ax=ax, bins=np.linspace(0, vmax, 100))\n",
    "        ax.set_title(band)\n",
    "    plt.tight_layout()"
   ]
  },
  {
   "cell_type": "markdown",
   "id": "058195e3",
   "metadata": {},
   "source": [
    "## Planet"
   ]
  },
  {
   "cell_type": "code",
   "execution_count": null,
   "id": "550db351",
   "metadata": {},
   "outputs": [],
   "source": [
    "# Planet\n",
    "from darts_acquisition import load_planet_masks, load_planet_scene\n",
    "\n",
    "# 20240822_053541_20_24f2\n",
    "# 20200805_014140_1039\n",
    "fpath = Path(\"/isipd/projects/p_aicore_pf/initze/data/planet/planet_data_inference_grid/scenes/20240822_053541_20_24f2\")\n",
    "optical = load_planet_scene(fpath)\n",
    "data_masks = load_planet_masks(fpath)\n",
    "tile_planet = xr.merge([optical, data_masks])\n",
    "tile_planet"
   ]
  },
  {
   "cell_type": "code",
   "execution_count": null,
   "id": "7463680c",
   "metadata": {},
   "outputs": [],
   "source": [
    "_plot_optical(tile_planet)"
   ]
  },
  {
   "cell_type": "code",
   "execution_count": null,
   "id": "74bccf65",
   "metadata": {},
   "outputs": [],
   "source": [
    "_plot_optical(tile_planet, vmax=3000)"
   ]
  },
  {
   "cell_type": "code",
   "execution_count": null,
   "id": "424e1660",
   "metadata": {},
   "outputs": [],
   "source": [
    "_plot_optical_hist(tile_planet)"
   ]
  },
  {
   "cell_type": "code",
   "execution_count": null,
   "id": "b2cfe31b",
   "metadata": {},
   "outputs": [],
   "source": [
    "_plot_optical_hist(tile_planet, vmax=3000)"
   ]
  },
  {
   "cell_type": "markdown",
   "id": "831cac78",
   "metadata": {},
   "source": [
    "## GEE"
   ]
  },
  {
   "cell_type": "code",
   "execution_count": null,
   "id": "6730dc29",
   "metadata": {},
   "outputs": [],
   "source": [
    "geom = ee.Geometry.Polygon(list(tile_planet.odc.geobox.geographic_extent.geom.exterior.coords))\n",
    "ic = (\n",
    "    ee.ImageCollection(\"COPERNICUS/S2_SR_HARMONIZED\")\n",
    "    .filterBounds(geom)\n",
    "    # .filterDate(\"2020-08-01\", \"2020-08-02\")\n",
    "    .filterDate(\"2024-08-21\", \"2024-08-28\")\n",
    "    .filterMetadata(\"CLOUDY_PIXEL_PERCENTAGE\", \"less_than\", 10)\n",
    ")\n",
    "s2geeid = ic.aggregate_array(\"system:index\").getInfo()[1]\n",
    "s2geeid"
   ]
  },
  {
   "cell_type": "code",
   "execution_count": null,
   "id": "9fff8d13",
   "metadata": {},
   "outputs": [],
   "source": [
    "from darts_utils.tilecache import XarrayCacheManager\n",
    "\n",
    "\n",
    "def _download_gee(img, cache):\n",
    "    bands_mapping: dict = {\"B2\": \"blue\", \"B3\": \"green\", \"B4\": \"red\", \"B8\": \"nir\"}\n",
    "\n",
    "    if isinstance(img, str):\n",
    "        s2id = img\n",
    "        img = ee.Image(f\"COPERNICUS/S2_SR_HARMONIZED/{s2id}\")\n",
    "    else:\n",
    "        s2id = img.id().getInfo().split(\"/\")[-1]\n",
    "\n",
    "    if \"SCL\" not in bands_mapping.keys():\n",
    "        bands_mapping[\"SCL\"] = \"scl\"\n",
    "\n",
    "    img = img.select(list(bands_mapping.keys()))\n",
    "\n",
    "    def _get_tile():\n",
    "        ds_s2 = xr.open_dataset(\n",
    "            img,\n",
    "            engine=\"ee\",\n",
    "            geometry=img.geometry(),\n",
    "            crs=img.select(0).projection().crs().getInfo(),\n",
    "            scale=10,\n",
    "        )\n",
    "        ds_s2.attrs[\"time\"] = str(ds_s2.time.values[0])\n",
    "        ds_s2 = ds_s2.isel(time=0).drop_vars(\"time\").rename({\"X\": \"x\", \"Y\": \"y\"}).transpose(\"y\", \"x\")\n",
    "        ds_s2 = ds_s2.odc.assign_crs(ds_s2.attrs[\"crs\"])\n",
    "        ds_s2.load()\n",
    "        return ds_s2\n",
    "\n",
    "    ds_s2 = XarrayCacheManager(cache).get_or_create(\n",
    "        identifier=f\"gee-s2srh-{s2id}-{''.join(bands_mapping.keys())}\",\n",
    "        creation_func=_get_tile,\n",
    "        force=False,\n",
    "    )\n",
    "\n",
    "    ds_s2 = ds_s2.rename_vars(bands_mapping)\n",
    "    return ds_s2\n",
    "\n",
    "\n",
    "tile_s2gee = _download_gee(s2geeid, \"/isipd/projects/p_aicore_pf/darts-nextgen/data/cache/s2gee\")\n",
    "tile_s2gee = tile_s2gee.odc.crop(tile_planet.odc.geobox.extent)\n",
    "tile_s2gee = tile_s2gee.odc.reproject(how=tile_planet.odc.geobox)\n",
    "tile_s2gee = tile_s2gee.where(~tile_planet.red.isnull())\n",
    "tile_s2gee"
   ]
  },
  {
   "cell_type": "code",
   "execution_count": null,
   "id": "4e0b06ae",
   "metadata": {},
   "outputs": [],
   "source": [
    "_plot_optical(tile_s2gee)"
   ]
  },
  {
   "cell_type": "code",
   "execution_count": null,
   "id": "4e69a2c3",
   "metadata": {},
   "outputs": [],
   "source": [
    "_plot_optical(tile_s2gee, vmax=3000)"
   ]
  },
  {
   "cell_type": "code",
   "execution_count": null,
   "id": "228002fb",
   "metadata": {},
   "outputs": [],
   "source": [
    "_plot_optical_hist(tile_s2gee)"
   ]
  },
  {
   "cell_type": "code",
   "execution_count": null,
   "id": "d7dfdca6",
   "metadata": {},
   "outputs": [],
   "source": [
    "_plot_optical_hist(tile_s2gee, vmax=3000)"
   ]
  },
  {
   "cell_type": "code",
   "execution_count": null,
   "id": "2d0746cb",
   "metadata": {},
   "outputs": [],
   "source": [
    "from darts_acquisition.s2 import search_s2_stac\n",
    "\n",
    "# s2stacitems = search_s2_stac(tile_planet.odc.geobox.geographic_extent, \"2024-08-01\", \"2024-08-03\", 10)\n",
    "s2stacitems = search_s2_stac(tile_planet.odc.geobox.geographic_extent, \"2024-08-21\", \"2024-08-24\", 10)\n",
    "\n",
    "# Match gee item\n",
    "s2id = [item for item in s2stacitems.keys() if s2geeid.split(\"_\")[-1] in item][0]\n",
    "s2stacitems[s2id]"
   ]
  },
  {
   "cell_type": "code",
   "execution_count": null,
   "id": "8024ec9f",
   "metadata": {},
   "outputs": [],
   "source": [
    "from collections.abc import MutableMapping\n",
    "\n",
    "from darts_acquisition.utils.copernicus import init_copernicus\n",
    "from odc.stac import stac_load\n",
    "from pystac import Item\n",
    "from pystac_client import Client\n",
    "\n",
    "\n",
    "def _flatten_dict(d: MutableMapping, parent_key: str = \"\", sep: str = \".\") -> MutableMapping:\n",
    "    items = []\n",
    "    for k, v in d.items():\n",
    "        new_key = parent_key + sep + k if parent_key else k\n",
    "        if isinstance(v, MutableMapping):\n",
    "            items.extend(_flatten_dict(v, new_key, sep=sep).items())\n",
    "        else:\n",
    "            items.append((new_key, v))\n",
    "    return dict(items)\n",
    "\n",
    "\n",
    "def _download_stac(s2item, cache):\n",
    "    bands_mapping: dict = {\"B02_10m\": \"blue\", \"B03_10m\": \"green\", \"B04_10m\": \"red\", \"B08_10m\": \"nir\"}\n",
    "    s2id = s2item.id if isinstance(s2item, Item) else s2item\n",
    "\n",
    "    if \"SCL_20m\" not in bands_mapping.keys():\n",
    "        bands_mapping[\"SCL_20m\"] = \"scl\"\n",
    "\n",
    "    def _get_tile():\n",
    "        nonlocal s2item\n",
    "\n",
    "        bands = list(bands_mapping.keys())\n",
    "\n",
    "        if isinstance(s2item, str):\n",
    "            catalog = Client.open(\"https://stac.dataspace.copernicus.eu/v1/\")\n",
    "            search = catalog.search(\n",
    "                collections=[\"sentinel-2-l2a\"],\n",
    "                ids=[s2id],\n",
    "            )\n",
    "            s2item = next(search.items())\n",
    "\n",
    "        # We can't use xpystac here, because they enforce chunking of 1024x1024, which results in long loading times\n",
    "        # and a potential AWS limit error.\n",
    "        init_copernicus(profile_name=\"default\")\n",
    "        ds_s2 = stac_load(\n",
    "            [s2item],\n",
    "            bands=bands,\n",
    "            crs=\"utm\",\n",
    "            resolution=10,\n",
    "        )\n",
    "\n",
    "        ds_s2.attrs = _flatten_dict(s2item.properties)\n",
    "        # Convert boolean values to int, since they are not supported in netcdf\n",
    "        for key, value in ds_s2.attrs.items():\n",
    "            if isinstance(value, bool):\n",
    "                ds_s2.attrs[key] = int(value)\n",
    "        ds_s2.attrs[\"time\"] = str(ds_s2.time.values[0])\n",
    "        ds_s2 = ds_s2.isel(time=0).drop_vars(\"time\")\n",
    "        return ds_s2\n",
    "\n",
    "    ds_s2 = XarrayCacheManager(cache).get_or_create(\n",
    "        identifier=f\"stac-s2l2a-{s2id}-{''.join(bands_mapping.keys())}\", creation_func=_get_tile, force=False\n",
    "    )\n",
    "\n",
    "    ds_s2 = ds_s2.rename_vars(bands_mapping)\n",
    "    return ds_s2\n",
    "\n",
    "\n",
    "tile_s2 = _download_stac(s2stacitems[s2id], \"/isipd/projects/p_aicore_pf/darts-nextgen/data/cache/s2stac\")\n",
    "tile_s2 = tile_s2.odc.crop(tile_planet.odc.geobox.extent)\n",
    "tile_s2 = tile_s2.odc.reproject(how=tile_planet.odc.geobox)\n",
    "tile_s2 = tile_s2.where(~tile_planet.red.isnull())\n",
    "tile_s2"
   ]
  },
  {
   "cell_type": "code",
   "execution_count": null,
   "id": "f5e5550e",
   "metadata": {},
   "outputs": [],
   "source": [
    "_plot_optical(tile_s2)"
   ]
  },
  {
   "cell_type": "code",
   "execution_count": null,
   "id": "fac3220b",
   "metadata": {},
   "outputs": [],
   "source": [
    "_plot_optical(tile_s2, vmax=3000)"
   ]
  },
  {
   "cell_type": "code",
   "execution_count": null,
   "id": "07141806",
   "metadata": {},
   "outputs": [],
   "source": [
    "_plot_optical_hist(tile_s2)"
   ]
  },
  {
   "cell_type": "code",
   "execution_count": null,
   "id": "909dd8b2",
   "metadata": {},
   "outputs": [],
   "source": [
    "_plot_optical_hist(tile_s2, vmax=3000)"
   ]
  }
 ],
 "metadata": {
  "kernelspec": {
   "display_name": "darts-nextgen",
   "language": "python",
   "name": "python3"
  },
  "language_info": {
   "codemirror_mode": {
    "name": "ipython",
    "version": 3
   },
   "file_extension": ".py",
   "mimetype": "text/x-python",
   "name": "python",
   "nbconvert_exporter": "python",
   "pygments_lexer": "ipython3",
   "version": "3.12.9"
  }
 },
 "nbformat": 4,
 "nbformat_minor": 5
}
