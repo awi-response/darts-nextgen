{
 "cells": [
  {
   "cell_type": "code",
   "execution_count": null,
   "metadata": {},
   "outputs": [],
   "source": [
    "import logging\n",
    "from pathlib import Path\n",
    "\n",
    "import matplotlib.pyplot as plt\n",
    "from darts_postprocessing.prepare_export import prepare_export\n",
    "from darts_preprocessing.preprocess import load_and_preprocess_planet_scene\n",
    "from darts_segmentation.segment import SMPSegmenter\n",
    "from rich import traceback\n",
    "from rich.logging import RichHandler\n",
    "\n",
    "from darts.utils.earthengine import init_ee\n",
    "from darts.utils.logging import setup_logging\n",
    "\n",
    "setup_logging()\n",
    "logging.basicConfig(\n",
    "    level=logging.INFO,\n",
    "    format=\"%(message)s\",\n",
    "    datefmt=\"[%X]\",\n",
    "    handlers=[RichHandler(rich_tracebacks=True)],\n",
    ")\n",
    "traceback.install(show_locals=False)\n",
    "init_ee(\"ee-tobias-hoelzer\")"
   ]
  },
  {
   "cell_type": "code",
   "execution_count": 2,
   "metadata": {},
   "outputs": [],
   "source": [
    "DATA_ROOT = Path(\"../data\")\n",
    "\n",
    "# fpath = DATA_ROOT / \"input/planet/PSOrthoTile/4372514/5790392_4372514_2022-07-16_2459\"\n",
    "fpath = DATA_ROOT / \"input/planet/PSOrthoTile/4974017/5854937_4974017_2022-08-14_2475\"\n",
    "arcticdem_dir = DATA_ROOT / \"input/ArcticDEM\"\n",
    "cache_dir = DATA_ROOT / \"download\""
   ]
  },
  {
   "cell_type": "code",
   "execution_count": null,
   "metadata": {},
   "outputs": [],
   "source": [
    "tile = load_and_preprocess_planet_scene(fpath, arcticdem_dir, cache_dir)\n",
    "tile"
   ]
  },
  {
   "cell_type": "code",
   "execution_count": null,
   "metadata": {},
   "outputs": [],
   "source": [
    "tile_low_res = tile.coarsen(x=16, y=16, boundary=\"trim\").mean()\n",
    "fig, axs = plt.subplots(2, 6, figsize=(30, 10))\n",
    "axs = axs.flatten()\n",
    "for i, v in enumerate(tile_low_res.data_vars):\n",
    "    tile_low_res[v].plot(ax=axs[i], cmap=\"gray\")\n",
    "    axs[i].set_title(v)"
   ]
  },
  {
   "cell_type": "code",
   "execution_count": null,
   "metadata": {},
   "outputs": [],
   "source": [
    "model = SMPSegmenter(\"../models/RTS_v6_tcvis.pt\")\n",
    "tile = model.segment_tile(tile, batch_size=4)\n",
    "tile"
   ]
  },
  {
   "cell_type": "code",
   "execution_count": null,
   "metadata": {},
   "outputs": [],
   "source": [
    "final_low_res = tile.coarsen(x=16, y=16, boundary=\"trim\").mean()\n",
    "fig, axs = plt.subplots(2, 7, figsize=(36, 10))\n",
    "axs = axs.flatten()\n",
    "for i, v in enumerate(final_low_res.data_vars):\n",
    "    if v == \"probabilities\":\n",
    "        final_low_res[v].plot(ax=axs[i], cmap=\"gray\", vmin=0, vmax=1)\n",
    "    else:\n",
    "        final_low_res[v].plot(ax=axs[i], cmap=\"gray\")\n",
    "    axs[i].set_title(v)"
   ]
  },
  {
   "cell_type": "code",
   "execution_count": null,
   "metadata": {},
   "outputs": [],
   "source": [
    "final = prepare_export(tile)\n",
    "final"
   ]
  },
  {
   "cell_type": "code",
   "execution_count": null,
   "metadata": {},
   "outputs": [],
   "source": [
    "final_low_res = final.coarsen(x=16, y=16, boundary=\"trim\").mean()\n",
    "fig, axs = plt.subplots(2, 7, figsize=(36, 10))\n",
    "axs = axs.flatten()\n",
    "for i, v in enumerate(final_low_res.data_vars):\n",
    "    if v == \"probabilities\":\n",
    "        final_low_res[v].plot(ax=axs[i], cmap=\"gray\", vmin=0, vmax=100)\n",
    "    else:\n",
    "        final_low_res[v].plot(ax=axs[i], cmap=\"gray\")\n",
    "    axs[i].set_title(v)"
   ]
  }
 ],
 "metadata": {
  "kernelspec": {
   "display_name": ".venv",
   "language": "python",
   "name": "python3"
  },
  "language_info": {
   "codemirror_mode": {
    "name": "ipython",
    "version": 3
   },
   "file_extension": ".py",
   "mimetype": "text/x-python",
   "name": "python",
   "nbconvert_exporter": "python",
   "pygments_lexer": "ipython3",
   "version": "3.11.9"
  }
 },
 "nbformat": 4,
 "nbformat_minor": 2
}
