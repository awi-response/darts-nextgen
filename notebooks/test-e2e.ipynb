{
 "cells": [
  {
   "cell_type": "code",
   "execution_count": null,
   "metadata": {},
   "outputs": [],
   "source": [
    "from pathlib import Path\n",
    "\n",
    "import xarray as xr\n",
    "from darts_postprocessing.prepare_export import prepare_export\n",
    "from darts_preprocessing.preprocess_tobi import load_and_preprocess_planet_scene\n",
    "from darts_segmentation.segment import SMPSegmenter\n",
    "from lovely_tensors import monkey_patch\n",
    "from rich import traceback\n",
    "\n",
    "xr.set_options(display_expand_data=False)\n",
    "\n",
    "monkey_patch()\n",
    "traceback.install(show_locals=True)\n"
   ]
  },
  {
   "cell_type": "code",
   "execution_count": null,
   "metadata": {},
   "outputs": [],
   "source": [
    "DATA_ROOT = Path(\"../data/input\")\n",
    "\n",
    "fpath = DATA_ROOT / \"planet/PSOrthoTile/4372514/5790392_4372514_2022-07-16_2459\"\n",
    "scene_id = fpath.parent.name\n",
    "\n",
    "# TODO: change to vrt\n",
    "elevation_path = DATA_ROOT / \"ArcticDEM\" / \"relative_elevation\" / f\"{scene_id}_relative_elevation_100.tif\"\n",
    "slope_path = DATA_ROOT / \"ArcticDEM\" / \"slope\" / f\"{scene_id}_slope.tif\"\n",
    "\n",
    "tile = load_and_preprocess_planet_scene(fpath, elevation_path, slope_path)\n",
    "tile\n"
   ]
  },
  {
   "cell_type": "code",
   "execution_count": null,
   "metadata": {},
   "outputs": [],
   "source": [
    "model = SMPSegmenter(\"../models/RTS_v6_notcvis.pt\")\n",
    "tile = model.segment_tile(tile)\n",
    "final = prepare_export(tile)"
   ]
  },
  {
   "cell_type": "code",
   "execution_count": null,
   "metadata": {},
   "outputs": [],
   "source": [
    "tile"
   ]
  }
 ],
 "metadata": {
  "kernelspec": {
   "display_name": ".venv",
   "language": "python",
   "name": "python3"
  },
  "language_info": {
   "codemirror_mode": {
    "name": "ipython",
    "version": 3
   },
   "file_extension": ".py",
   "mimetype": "text/x-python",
   "name": "python",
   "nbconvert_exporter": "python",
   "pygments_lexer": "ipython3",
   "version": "3.11.9"
  }
 },
 "nbformat": 4,
 "nbformat_minor": 2
}
