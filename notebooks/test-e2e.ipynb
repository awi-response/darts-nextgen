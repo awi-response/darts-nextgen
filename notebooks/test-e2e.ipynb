{
 "cells": [
  {
   "cell_type": "code",
   "execution_count": null,
   "metadata": {},
   "outputs": [],
   "source": [
    "import logging\n",
    "from math import ceil, sqrt\n",
    "from pathlib import Path\n",
    "\n",
    "import folium\n",
    "import holoviews as hv\n",
    "import hvplot.xarray  # noqa\n",
    "import xarray as xr\n",
    "from darts_acquisition.arcticdem import load_arcticdem_tile\n",
    "from darts_acquisition.planet import load_planet_masks, load_planet_scene\n",
    "from darts_acquisition.tcvis import load_tcvis\n",
    "from darts_ensemble.ensemble_v1 import EnsembleV1\n",
    "from darts_postprocessing.prepare_export import prepare_export\n",
    "from darts_preprocessing import preprocess_legacy_fast\n",
    "from rich import traceback\n",
    "from rich.logging import RichHandler\n",
    "\n",
    "from darts.utils.earthengine import init_ee\n",
    "from darts.utils.logging import LoggingManager\n",
    "\n",
    "LoggingManager.setup_logging()\n",
    "logging.basicConfig(\n",
    "    level=logging.INFO,\n",
    "    format=\"%(message)s\",\n",
    "    datefmt=\"[%X]\",\n",
    "    handlers=[RichHandler(rich_tracebacks=True)],\n",
    ")\n",
    "traceback.install(show_locals=False)\n",
    "init_ee(\"ee-tobias-hoelzer\")"
   ]
  },
  {
   "cell_type": "code",
   "execution_count": null,
   "metadata": {},
   "outputs": [],
   "source": [
    "DATA_ROOT = Path(\"../data\")\n",
    "\n",
    "# fpath = DATA_ROOT / \"input/planet/PSOrthoTile/4372514/5790392_4372514_2022-07-16_2459\"\n",
    "fpath = DATA_ROOT / \"input/planet/PSOrthoTile/4974017/5854937_4974017_2022-08-14_2475\"\n",
    "arcticdem_dir = DATA_ROOT / \"download/arcticdem\"\n",
    "tcvis_dir = DATA_ROOT / \"download/tcvis\""
   ]
  },
  {
   "cell_type": "code",
   "execution_count": null,
   "metadata": {},
   "outputs": [],
   "source": [
    "def plot_tile(tile: xr.Dataset, ncols=4) -> hv.Layout:  # noqa\n",
    "    var_plots = [\n",
    "        tile.hvplot(\n",
    "            x=\"x\",\n",
    "            y=\"y\",\n",
    "            z=z,\n",
    "            rasterize=True,\n",
    "            aggregator=\"max\",\n",
    "            crs=str(tile.rio.crs),\n",
    "            projection=str(tile.rio.crs),\n",
    "            cmap=\"gray\",\n",
    "            colorbar=True,\n",
    "            data_aspect=1,\n",
    "            title=z,\n",
    "        )\n",
    "        for z in tile.data_vars\n",
    "    ]\n",
    "    return hv.Layout(var_plots).cols(ncols)\n",
    "\n",
    "\n",
    "def plot_tile_interactive(tile: xr.Dataset) -> folium.Map:  # noqa\n",
    "    m = folium.Map()\n",
    "\n",
    "    for z in tile.data_vars:\n",
    "        tile[z].odc.add_to(map=m, name=z)\n",
    "\n",
    "    folium.LayerControl().add_to(m)\n",
    "    return m"
   ]
  },
  {
   "cell_type": "code",
   "execution_count": null,
   "metadata": {},
   "outputs": [],
   "source": [
    "cache_file = DATA_ROOT / \"intermediate\" / f\"planet_{fpath.stem}.nc\"\n",
    "force = True\n",
    "slc = {\"x\": slice(0, 2000), \"y\": slice(6000, 8000)}\n",
    "if cache_file.exists() and not force:\n",
    "    tile = xr.open_dataset(cache_file, engine=\"h5netcdf\", mask_and_scale=False).set_coords(\"spatial_ref\")\n",
    "else:\n",
    "    tpi_outer_radius = 100\n",
    "    buffer = ceil(tpi_outer_radius / 2 * sqrt(2))\n",
    "    optical = load_planet_scene(fpath).isel(slc)\n",
    "    arcticdem = load_arcticdem_tile(optical.odc.geobox, arcticdem_dir, buffer=buffer, resolution=2)\n",
    "    tcvis = load_tcvis(optical.odc.geobox, tcvis_dir)\n",
    "    data_masks = load_planet_masks(fpath).isel(slc)\n",
    "    tile = preprocess_legacy_fast(optical, arcticdem, tcvis, data_masks, tpi_outer_radius)\n",
    "    cache_file.parent.mkdir(exist_ok=True, parents=True)\n",
    "    tile.to_netcdf(cache_file, engine=\"h5netcdf\")\n",
    "\n",
    "display(tile)\n",
    "# plot_tile(tile)"
   ]
  },
  {
   "cell_type": "code",
   "execution_count": null,
   "metadata": {},
   "outputs": [],
   "source": [
    "ensemble = EnsembleV1(\n",
    "    Path(\"../models/RTS_v6_tcvis.pt\"),\n",
    "    Path(\"../models/RTS_v6_notcvis.pt\"),\n",
    ")\n",
    "logging.info(ensemble.rts_v6_tcvis_model.config[\"input_combination\"])\n",
    "logging.info(ensemble.rts_v6_notcvis_model.config[\"input_combination\"])\n",
    "tile = ensemble(tile, batch_size=4, keep_inputs=True, patch_size=1024, overlap=256)\n",
    "display(tile)\n",
    "# plot_tile(tile)"
   ]
  },
  {
   "cell_type": "code",
   "execution_count": null,
   "metadata": {},
   "outputs": [],
   "source": [
    "tile = prepare_export(tile, use_quality_mask=True)\n",
    "tile"
   ]
  },
  {
   "cell_type": "code",
   "execution_count": null,
   "metadata": {},
   "outputs": [],
   "source": [
    "plot_tile(tile)"
   ]
  },
  {
   "cell_type": "code",
   "execution_count": null,
   "metadata": {},
   "outputs": [],
   "source": [
    "plot_tile_interactive(tile)"
   ]
  }
 ],
 "metadata": {
  "kernelspec": {
   "display_name": ".venv",
   "language": "python",
   "name": "python3"
  },
  "language_info": {
   "codemirror_mode": {
    "name": "ipython",
    "version": 3
   },
   "file_extension": ".py",
   "mimetype": "text/x-python",
   "name": "python",
   "nbconvert_exporter": "python",
   "pygments_lexer": "ipython3",
   "version": "3.11.9"
  }
 },
 "nbformat": 4,
 "nbformat_minor": 2
}
