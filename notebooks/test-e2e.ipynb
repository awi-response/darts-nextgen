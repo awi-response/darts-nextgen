{
 "cells": [
  {
   "cell_type": "code",
   "execution_count": null,
   "metadata": {},
   "outputs": [],
   "source": [
    "import logging\n",
    "from pathlib import Path\n",
    "\n",
    "import matplotlib.pyplot as plt\n",
    "import xarray as xr\n",
    "from darts_postprocessing.prepare_export import prepare_export\n",
    "from darts_preprocessing.preprocess_tobi import load_and_preprocess_planet_scene\n",
    "from darts_segmentation.segment import SMPSegmenter\n",
    "from lovely_tensors import monkey_patch\n",
    "from rich import traceback\n",
    "from rich.logging import RichHandler\n",
    "\n",
    "xr.set_options(display_expand_data=False)\n",
    "\n",
    "# Set up logging\n",
    "logging.basicConfig(level=logging.INFO, handlers=[RichHandler()])\n",
    "logging.getLogger(\"darts_preprocessing\").setLevel(logging.DEBUG)\n",
    "logging.getLogger(\"darts_segmentation\").setLevel(logging.DEBUG)\n",
    "\n",
    "monkey_patch()\n",
    "traceback.install(show_locals=True)"
   ]
  },
  {
   "cell_type": "code",
   "execution_count": 2,
   "metadata": {},
   "outputs": [],
   "source": [
    "DATA_ROOT = Path(\"../data/input\")\n",
    "\n",
    "# fpath = DATA_ROOT / \"planet/PSOrthoTile/4372514/5790392_4372514_2022-07-16_2459\"\n",
    "fpath = DATA_ROOT / \"planet/PSOrthoTile/4974017/5854937_4974017_2022-08-14_2475\"\n",
    "scene_id = fpath.parent.name\n",
    "\n",
    "# TODO: change to vrt\n",
    "elevation_path = DATA_ROOT / \"ArcticDEM\" / \"relative_elevation\" / f\"{scene_id}_relative_elevation_100.tif\"\n",
    "slope_path = DATA_ROOT / \"ArcticDEM\" / \"slope\" / f\"{scene_id}_slope.tif\"\n"
   ]
  },
  {
   "cell_type": "code",
   "execution_count": null,
   "metadata": {},
   "outputs": [],
   "source": [
    "tile = load_and_preprocess_planet_scene(fpath, elevation_path, slope_path)\n",
    "tile"
   ]
  },
  {
   "cell_type": "code",
   "execution_count": null,
   "metadata": {},
   "outputs": [],
   "source": [
    "tile_low_res = tile.coarsen(x=16, y=16, boundary=\"trim\").mean()\n",
    "fig, axs = plt.subplots(2, 5, figsize=(30, 10))\n",
    "axs = axs.flatten()\n",
    "for i, v in enumerate(tile_low_res.data_vars):\n",
    "    tile_low_res[v].plot(ax=axs[i], cmap=\"gray\")\n",
    "    axs[i].set_title(v)"
   ]
  },
  {
   "cell_type": "code",
   "execution_count": null,
   "metadata": {},
   "outputs": [],
   "source": [
    "model = SMPSegmenter(\"../models/RTS_v6_notcvis.pt\")\n",
    "tile = model.segment_tile(tile, batch_size=4)\n",
    "final = prepare_export(tile)"
   ]
  },
  {
   "cell_type": "code",
   "execution_count": null,
   "metadata": {},
   "outputs": [],
   "source": [
    "final_low_res = final.coarsen(x=16, y=16, boundary=\"trim\").mean()\n",
    "fig, axs = plt.subplots(2, 6, figsize=(36, 10))\n",
    "axs = axs.flatten()\n",
    "for i, v in enumerate(final_low_res.data_vars):\n",
    "    final_low_res[v].plot(ax=axs[i], cmap=\"gray\")\n",
    "    axs[i].set_title(v)"
   ]
  }
 ],
 "metadata": {
  "kernelspec": {
   "display_name": ".venv",
   "language": "python",
   "name": "python3"
  },
  "language_info": {
   "codemirror_mode": {
    "name": "ipython",
    "version": 3
   },
   "file_extension": ".py",
   "mimetype": "text/x-python",
   "name": "python",
   "nbconvert_exporter": "python",
   "pygments_lexer": "ipython3",
   "version": "3.11.9"
  }
 },
 "nbformat": 4,
 "nbformat_minor": 2
}
