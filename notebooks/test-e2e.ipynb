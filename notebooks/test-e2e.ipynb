{
 "cells": [
  {
   "cell_type": "code",
   "execution_count": null,
   "metadata": {},
   "outputs": [],
   "source": [
    "import logging\n",
    "from pathlib import Path\n",
    "\n",
    "import matplotlib.pyplot as plt\n",
    "import xarray as xr\n",
    "from darts_ensemble.ensemble_v1 import EnsembleV1\n",
    "from darts_postprocessing.prepare_export import prepare_export\n",
    "from darts_preprocessing.preprocess import load_and_preprocess_planet_scene\n",
    "from rich import traceback\n",
    "from rich.logging import RichHandler\n",
    "\n",
    "from darts.utils.earthengine import init_ee\n",
    "from darts.utils.logging import setup_logging\n",
    "\n",
    "setup_logging()\n",
    "logging.basicConfig(\n",
    "    level=logging.INFO,\n",
    "    format=\"%(message)s\",\n",
    "    datefmt=\"[%X]\",\n",
    "    handlers=[RichHandler(rich_tracebacks=True)],\n",
    ")\n",
    "traceback.install(show_locals=False)\n",
    "init_ee(\"ee-tobias-hoelzer\")"
   ]
  },
  {
   "cell_type": "code",
   "execution_count": null,
   "metadata": {},
   "outputs": [],
   "source": [
    "DATA_ROOT = Path(\"../data\")\n",
    "\n",
    "# fpath = DATA_ROOT / \"input/planet/PSOrthoTile/4372514/5790392_4372514_2022-07-16_2459\"\n",
    "fpath = DATA_ROOT / \"input/planet/PSOrthoTile/4974017/5854937_4974017_2022-08-14_2475\"\n",
    "arcticdem_dir = DATA_ROOT / \"input/ArcticDEM\"\n",
    "cache_dir = DATA_ROOT / \"download\""
   ]
  },
  {
   "cell_type": "code",
   "execution_count": null,
   "metadata": {},
   "outputs": [],
   "source": [
    "cache_file = DATA_ROOT / \"intermediate\" / f\"planet_{fpath.stem}.nc\"\n",
    "force = False\n",
    "if cache_file.exists() and not force:\n",
    "    tile = xr.open_dataset(cache_file, engine=\"h5netcdf\", mask_and_scale=False)\n",
    "else:\n",
    "    tile = load_and_preprocess_planet_scene(fpath, arcticdem_dir, cache_dir)\n",
    "    cache_file.parent.mkdir(exist_ok=True, parents=True)\n",
    "    tile.to_netcdf(cache_file, engine=\"h5netcdf\")\n",
    "\n",
    "tile"
   ]
  },
  {
   "cell_type": "code",
   "execution_count": null,
   "metadata": {},
   "outputs": [],
   "source": [
    "tile_low_res = tile.coarsen(x=16, y=16, boundary=\"trim\").mean()\n",
    "fig, axs = plt.subplots(2, 6, figsize=(36, 10))\n",
    "axs = axs.flatten()\n",
    "for i, v in enumerate(tile_low_res.data_vars):\n",
    "    tile_low_res[v].plot(ax=axs[i], cmap=\"gray\")\n",
    "    axs[i].set_title(v)"
   ]
  },
  {
   "cell_type": "code",
   "execution_count": null,
   "metadata": {},
   "outputs": [],
   "source": [
    "ensemble = EnsembleV1(\n",
    "    \"../models/RTS_v6_tcvis.pt\",\n",
    "    \"../models/RTS_v6_notcvis.pt\",\n",
    ")\n",
    "logging.info(ensemble.rts_v6_tcvis_model.config[\"input_combination\"])\n",
    "logging.info(ensemble.rts_v6_notcvis_model.config[\"input_combination\"])\n",
    "tile = ensemble(tile, batch_size=4, keep_inputs=True, patch_size=1024, overlap=256)\n",
    "tile"
   ]
  },
  {
   "cell_type": "code",
   "execution_count": null,
   "metadata": {},
   "outputs": [],
   "source": [
    "final_low_res = tile.coarsen(x=16, y=16, boundary=\"trim\").mean()\n",
    "fig, axs = plt.subplots(2, 8, figsize=(52, 10))\n",
    "axs = axs.flatten()\n",
    "for i, v in enumerate(final_low_res.data_vars):\n",
    "    if v == \"probabilities\":\n",
    "        final_low_res[v].plot(ax=axs[i], cmap=\"gray\", vmin=0, vmax=1)\n",
    "    else:\n",
    "        final_low_res[v].plot(ax=axs[i], cmap=\"gray\")\n",
    "    axs[i].set_title(v)"
   ]
  },
  {
   "cell_type": "code",
   "execution_count": null,
   "metadata": {},
   "outputs": [],
   "source": [
    "tile = prepare_export(tile)\n",
    "tile"
   ]
  },
  {
   "cell_type": "code",
   "execution_count": null,
   "metadata": {},
   "outputs": [],
   "source": [
    "final_low_res = tile.coarsen(x=16, y=16, boundary=\"trim\").mean()\n",
    "fig, axs = plt.subplots(2, 8, figsize=(52, 10))\n",
    "axs = axs.flatten()\n",
    "for i, v in enumerate(final_low_res.data_vars):\n",
    "    if v == \"probabilities\":\n",
    "        final_low_res[v].plot(ax=axs[i], cmap=\"gray\", vmin=0, vmax=100)\n",
    "    else:\n",
    "        final_low_res[v].plot(ax=axs[i], cmap=\"gray\")\n",
    "    axs[i].set_title(v)"
   ]
  }
 ],
 "metadata": {
  "kernelspec": {
   "display_name": ".venv",
   "language": "python",
   "name": "python3"
  },
  "language_info": {
   "codemirror_mode": {
    "name": "ipython",
    "version": 3
   },
   "file_extension": ".py",
   "mimetype": "text/x-python",
   "name": "python",
   "nbconvert_exporter": "python",
   "pygments_lexer": "ipython3",
   "version": "3.11.9"
  }
 },
 "nbformat": 4,
 "nbformat_minor": 2
}
