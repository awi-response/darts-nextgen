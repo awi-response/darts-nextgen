{
 "cells": [
  {
   "cell_type": "code",
   "execution_count": null,
   "metadata": {},
   "outputs": [],
   "source": [
    "import logging\n",
    "from pathlib import Path\n",
    "\n",
    "import hvplot.xarray  # noqa: F401\n",
    "import rioxarray  # noqa: F401\n",
    "from darts_preprocessing.data_sources.planet import load_planet_scene\n",
    "from dask.distributed import Client\n",
    "from odc.stac import configure_rio\n",
    "from rich import traceback\n",
    "from rich.logging import RichHandler\n",
    "\n",
    "from darts.utils.logging import setup_logging\n",
    "\n",
    "setup_logging()\n",
    "logging.basicConfig(\n",
    "    level=logging.INFO,\n",
    "    format=\"%(message)s\",\n",
    "    datefmt=\"[%X]\",\n",
    "    handlers=[RichHandler(rich_tracebacks=True)],\n",
    ")\n",
    "traceback.install(show_locals=False)\n",
    "client = Client()\n",
    "configure_rio(cloud_defaults=True, aws={\"aws_unsigned\": True}, client=client)\n",
    "client"
   ]
  },
  {
   "cell_type": "code",
   "execution_count": null,
   "metadata": {},
   "outputs": [],
   "source": [
    "DATA_ROOT = Path(\"../data\")\n",
    "\n",
    "# fpath = DATA_ROOT / \"input/planet/PSOrthoTile/4372514/5790392_4372514_2022-07-16_2459\"\n",
    "fpath = DATA_ROOT / \"input/planet/PSOrthoTile/4974017/5854937_4974017_2022-08-14_2475\"\n",
    "arcticdem_dir = DATA_ROOT / \"download/arcticdem\""
   ]
  },
  {
   "cell_type": "code",
   "execution_count": null,
   "metadata": {},
   "outputs": [],
   "source": [
    "# load planet scene\n",
    "ds_planet = load_planet_scene(fpath).isel(x=slice(0, 2000), y=slice(6000, 8000))\n",
    "ds_planet"
   ]
  },
  {
   "cell_type": "markdown",
   "metadata": {},
   "source": [
    "## Get the Tile"
   ]
  },
  {
   "cell_type": "code",
   "execution_count": null,
   "metadata": {},
   "outputs": [],
   "source": [
    "from darts_acquisition.arcticdem.datacube import get_arcticdem_tile\n",
    "\n",
    "ds = get_arcticdem_tile(ds_planet, arcticdem_dir, resolution=2, buffer=0)\n",
    "ds"
   ]
  },
  {
   "cell_type": "code",
   "execution_count": null,
   "metadata": {},
   "outputs": [],
   "source": [
    "crs = ds.rio.crs.to_string()\n",
    "ds.dem.hvplot.image(aggregator=\"max\", rasterize=True, cmap=\"terrain\", crs=crs, projection=crs)"
   ]
  },
  {
   "cell_type": "code",
   "execution_count": null,
   "metadata": {},
   "outputs": [],
   "source": [
    "crs = ds_planet.rio.crs.to_string()\n",
    "dem_plot = ds.dem.rio.reproject_match(ds_planet).hvplot.image(aggregator=\"max\", rasterize=True, cmap=\"terrain\")\n",
    "red_plot = ds_planet.red.hvplot.image(x=\"x\", y=\"y\", aggregator=\"mean\", rasterize=True, cmap=\"reds\")\n",
    "dem_plot + red_plot"
   ]
  },
  {
   "cell_type": "markdown",
   "metadata": {},
   "source": [
    "## Calculate Relative Elevation and Slope"
   ]
  },
  {
   "cell_type": "code",
   "execution_count": null,
   "metadata": {},
   "outputs": [],
   "source": [
    "from darts_preprocessing.engineering.arcticdem import calculate_slope, calculate_topographic_position_index\n",
    "\n",
    "ds = calculate_topographic_position_index(ds)\n",
    "ds = calculate_slope(ds)\n",
    "ds"
   ]
  },
  {
   "cell_type": "code",
   "execution_count": null,
   "metadata": {},
   "outputs": [],
   "source": [
    "ds = ds.persist()"
   ]
  },
  {
   "cell_type": "code",
   "execution_count": null,
   "metadata": {},
   "outputs": [],
   "source": [
    "crs = ds.rio.crs.to_string()\n",
    "dem_plot = ds.dem.hvplot.image(\n",
    "    x=\"x\", y=\"y\", aggregator=\"max\", rasterize=True, cmap=\"terrain\", crs=crs, projection=crs, title=\"DEM\"\n",
    ")\n",
    "tpi_plot = ds.tpi.hvplot.image(\n",
    "    x=\"x\", y=\"y\", aggregator=\"max\", rasterize=True, cmap=\"terrain\", crs=crs, projection=crs, title=\"TPI\"\n",
    ")\n",
    "slope_plot = ds.slope.hvplot.image(\n",
    "    x=\"x\", y=\"y\", aggregator=\"max\", rasterize=True, cmap=\"terrain\", crs=crs, projection=crs, title=\"Slope\"\n",
    ")\n",
    "dem_plot + tpi_plot + slope_plot"
   ]
  }
 ],
 "metadata": {
  "kernelspec": {
   "display_name": ".venv",
   "language": "python",
   "name": "python3"
  },
  "language_info": {
   "codemirror_mode": {
    "name": "ipython",
    "version": 3
   },
   "file_extension": ".py",
   "mimetype": "text/x-python",
   "name": "python",
   "nbconvert_exporter": "python",
   "pygments_lexer": "ipython3",
   "version": "3.11.9"
  }
 },
 "nbformat": 4,
 "nbformat_minor": 2
}
