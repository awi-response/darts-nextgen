{
 "cells": [
  {
   "cell_type": "code",
   "execution_count": null,
   "metadata": {},
   "outputs": [],
   "source": [
    "import logging\n",
    "from pathlib import Path\n",
    "\n",
    "import cupy_xarray  # noqa: F401\n",
    "import hvplot.xarray\n",
    "import rioxarray  # noqa: F401\n",
    "from darts_acquisition.planet import load_planet_scene\n",
    "from dask.distributed import Client\n",
    "from odc.stac import configure_rio\n",
    "from rich import traceback\n",
    "from rich.logging import RichHandler\n",
    "\n",
    "from darts.utils.logging import LoggingManager\n",
    "\n",
    "LoggingManager.setup_logging()\n",
    "logging.basicConfig(\n",
    "    level=logging.INFO,\n",
    "    format=\"%(message)s\",\n",
    "    datefmt=\"[%X]\",\n",
    "    handlers=[RichHandler(rich_tracebacks=True)],\n",
    ")\n",
    "traceback.install(show_locals=True)\n",
    "client = Client()\n",
    "configure_rio(cloud_defaults=True, aws={\"aws_unsigned\": True}, client=client)\n",
    "client"
   ]
  },
  {
   "cell_type": "code",
   "execution_count": null,
   "metadata": {},
   "outputs": [],
   "source": [
    "DATA_ROOT = Path(\"../data\")\n",
    "\n",
    "# fpath = DATA_ROOT / \"input/planet/PSOrthoTile/4372514/5790392_4372514_2022-07-16_2459\"\n",
    "fpath = DATA_ROOT / \"input/planet/PSOrthoTile/4974017/5854937_4974017_2022-08-14_2475\"\n",
    "arcticdem_dir = DATA_ROOT / \"download/arcticdem\""
   ]
  },
  {
   "cell_type": "code",
   "execution_count": null,
   "metadata": {},
   "outputs": [],
   "source": [
    "# load planet scene\n",
    "ds_planet = load_planet_scene(fpath)  # .isel(x=slice(0, 2000), y=slice(6000, 8000))\n",
    "ds_planet"
   ]
  },
  {
   "cell_type": "markdown",
   "metadata": {},
   "source": [
    "## Get the Tile"
   ]
  },
  {
   "cell_type": "code",
   "execution_count": null,
   "metadata": {},
   "outputs": [],
   "source": [
    "from darts_acquisition.arcticdem import load_arcticdem_tile\n",
    "\n",
    "ds = load_arcticdem_tile(ds_planet.odc.geobox, arcticdem_dir, resolution=2, buffer=0, persist=True)\n",
    "ds"
   ]
  },
  {
   "cell_type": "code",
   "execution_count": null,
   "metadata": {},
   "outputs": [],
   "source": [
    "crs = ds.rio.crs.to_string()\n",
    "ds.dem.hvplot.image(aggregator=\"max\", rasterize=True, cmap=\"terrain\", crs=crs, projection=crs)"
   ]
  },
  {
   "cell_type": "code",
   "execution_count": null,
   "metadata": {},
   "outputs": [],
   "source": [
    "crs = ds_planet.rio.crs.to_string()\n",
    "dem_plot = ds.dem.rio.reproject_match(ds_planet).hvplot.image(\n",
    "    aggregator=\"max\", rasterize=True, cmap=\"terrain\", data_aspect=1, crs=crs, projection=crs\n",
    ")\n",
    "red_plot = ds_planet.red.hvplot.image(\n",
    "    x=\"x\", y=\"y\", aggregator=\"mean\", rasterize=True, cmap=\"reds\", data_aspect=1, crs=crs, projection=crs\n",
    ")\n",
    "dem_plot + red_plot"
   ]
  },
  {
   "cell_type": "markdown",
   "metadata": {},
   "source": [
    "## Calculate Relative Elevation and Slope\n",
    "\n",
    "### Numpy\n",
    "\n",
    "Topographic Position Index calculated in 652.77 seconds.\n",
    "Slope calculated in 3.67 seconds.\n",
    "\n",
    "### Dask (4 worker)\n",
    "\n",
    "Topographic Position Index calculated in 135.34 seconds.\n",
    "Slope calculated in 4.33 seconds.\n",
    "\n",
    "### Cupy\n",
    "\n",
    "Topographic Position Index calculated in 12.69 seconds. \n",
    "Slope calculated in 0.16 seconds.\n"
   ]
  },
  {
   "cell_type": "code",
   "execution_count": null,
   "metadata": {},
   "outputs": [],
   "source": [
    "from darts_preprocessing.engineering.arcticdem import calculate_slope, calculate_topographic_position_index\n",
    "from xrspatial.utils import has_cuda_and_cupy\n",
    "\n",
    "use_cupy = True\n",
    "if use_cupy and has_cuda_and_cupy():\n",
    "    ds = ds.cupy.as_cupy()\n",
    "ds = calculate_topographic_position_index(ds)\n",
    "ds = calculate_slope(ds)\n",
    "if ds.cupy.is_cupy:\n",
    "    ds = ds.cupy.as_numpy()\n",
    "ds"
   ]
  },
  {
   "cell_type": "code",
   "execution_count": null,
   "metadata": {},
   "outputs": [],
   "source": [
    "crs = ds.rio.crs.to_string()\n",
    "dem_plot = ds.dem.hvplot.image(\n",
    "    x=\"x\", y=\"y\", aggregator=\"max\", rasterize=True, cmap=\"terrain\", data_aspect=1, crs=crs, projection=crs, title=\"DEM\"\n",
    ")\n",
    "tpi_plot = ds.tpi.hvplot.image(\n",
    "    x=\"x\", y=\"y\", aggregator=\"max\", rasterize=True, cmap=\"terrain\", data_aspect=1, crs=crs, projection=crs, title=\"TPI\"\n",
    ")\n",
    "slope_plot = ds.slope.hvplot.image(\n",
    "    x=\"x\", y=\"y\", aggregator=\"max\", rasterize=True, data_aspect=1, crs=crs, projection=crs, title=\"Slope\"\n",
    ")\n",
    "dem_plot + tpi_plot + slope_plot"
   ]
  }
 ],
 "metadata": {
  "kernelspec": {
   "display_name": ".venv",
   "language": "python",
   "name": "python3"
  },
  "language_info": {
   "codemirror_mode": {
    "name": "ipython",
    "version": 3
   },
   "file_extension": ".py",
   "mimetype": "text/x-python",
   "name": "python",
   "nbconvert_exporter": "python",
   "pygments_lexer": "ipython3",
   "version": "3.11.9"
  }
 },
 "nbformat": 4,
 "nbformat_minor": 2
}
