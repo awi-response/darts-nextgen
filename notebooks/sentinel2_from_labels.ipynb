{
 "cells": [
  {
   "cell_type": "code",
   "execution_count": null,
   "id": "87182ddc",
   "metadata": {},
   "outputs": [],
   "source": [
    "import logging\n",
    "from pathlib import Path\n",
    "\n",
    "import branca.colormap as cm\n",
    "import geopandas as gpd\n",
    "import pandas as pd\n",
    "import xarray as xr\n",
    "from darts_acquisition.utils.copernicus import init_copernicus\n",
    "from rich import traceback\n",
    "from rich.logging import RichHandler\n",
    "\n",
    "logging.getLogger(\"darts\").setLevel(logging.DEBUG)\n",
    "logging.getLogger(\"darts\").addHandler(RichHandler())\n",
    "\n",
    "traceback.install(show_locals=True)\n",
    "\n",
    "xr.set_options(display_expand_attrs=False)\n",
    "\n",
    "init_copernicus()\n",
    "\n",
    "labels_dir = Path(\"/home/pd/tohoel001/repositories/ML_training_labels/retrogressive_thaw_slumps\")\n",
    "data_dir = Path(\"/isipd/projects/p_aicore_pf/initze/training_data_creation/slumps/03_processed\")"
   ]
  },
  {
   "cell_type": "code",
   "execution_count": null,
   "id": "47f7fb63",
   "metadata": {},
   "outputs": [],
   "source": [
    "def parse_date(row):\n",
    "    orthotile = row[\"datasource\"] == \"PlanetScope OrthoTile\"\n",
    "    if orthotile:\n",
    "        return pd.to_datetime(row[\"image_id\"].split(\"_\")[-2], format=\"%Y-%m-%d\", utc=True)\n",
    "    else:\n",
    "        return pd.to_datetime(row[\"image_id\"].split(\"_\")[0], format=\"%Y%m%d\", utc=True)\n",
    "\n",
    "\n",
    "def _legacy_path_gen(data_dir: Path):\n",
    "    for iterdir in data_dir.iterdir():\n",
    "        if iterdir.stem == \"iteration001\":\n",
    "            for sitedir in (iterdir).iterdir():\n",
    "                for imgdir in (sitedir).iterdir():\n",
    "                    if not imgdir.is_dir():\n",
    "                        continue\n",
    "                    try:\n",
    "                        yield next(imgdir.glob(\"*_SR.tif\")).parent\n",
    "                    except StopIteration:\n",
    "                        yield next(imgdir.glob(\"*_SR_clip.tif\")).parent\n",
    "        else:\n",
    "            for imgdir in (iterdir).iterdir():\n",
    "                if not imgdir.is_dir():\n",
    "                    continue\n",
    "                try:\n",
    "                    yield next(imgdir.glob(\"*_SR.tif\")).parent\n",
    "                except StopIteration:\n",
    "                    yield next(imgdir.glob(\"*_SR_clip.tif\")).parent\n",
    "\n",
    "\n",
    "footprints = (gpd.read_file(footprints_file) for footprints_file in labels_dir.glob(\"*/ImageFootprints*.gpkg\"))\n",
    "footprints = gpd.GeoDataFrame(pd.concat(footprints, ignore_index=True))\n",
    "footprints[\"date\"] = footprints.apply(parse_date, axis=1)\n",
    "fpaths = {fpath.stem: fpath for fpath in _legacy_path_gen(data_dir)}\n",
    "footprints[\"fpath\"] = footprints.image_id.map(fpaths)\n",
    "display(footprints.head())\n",
    "footprints.info()"
   ]
  },
  {
   "cell_type": "code",
   "execution_count": null,
   "id": "8f4a93d4",
   "metadata": {},
   "outputs": [],
   "source": [
    "from darts_acquisition.s2 import match_s2ids_from_geodataframe_stac\n",
    "\n",
    "footprints = footprints.take([0, 1, 2])\n",
    "matches = match_s2ids_from_geodataframe_stac(\n",
    "    aoi=footprints, day_range=14, max_cloud_cover=10, simplify_geometry=0.1, save_scores=Path(\"./s2-scores.parquet\")\n",
    ")\n",
    "matches"
   ]
  },
  {
   "cell_type": "code",
   "execution_count": null,
   "id": "c275f018",
   "metadata": {},
   "outputs": [],
   "source": [
    "import geopandas as gpd\n",
    "\n",
    "gpd.read_parquet(Path(\"./s2-scores.parquet\"))"
   ]
  },
  {
   "cell_type": "code",
   "execution_count": null,
   "id": "f4cda258",
   "metadata": {},
   "outputs": [],
   "source": [
    "footprints[\"s2_item\"] = footprints.index.map(matches)\n",
    "footprints[\"s2id\"] = footprints.s2_item.map(lambda x: x.id if x is not None else None)"
   ]
  },
  {
   "cell_type": "code",
   "execution_count": null,
   "id": "846a044c",
   "metadata": {},
   "outputs": [],
   "source": [
    "matches_gdf = gpd.GeoDataFrame.from_features([item.to_dict() for item in matches.values() if item], crs=\"EPSG:4326\")\n",
    "matches_gdf[\"s2id\"] = [item.id for item in matches.values() if item]\n",
    "m = matches_gdf.explore(column=\"s2id\", cmap=[cm.step.Pastel1_08.rgb_hex_str(i / 8) for i in range(8)])\n",
    "footprints.explore(m=m, column=\"s2id\", cmap=[cm.step.Set1_08.rgb_hex_str(i / 8) for i in range(8)])\n",
    "m"
   ]
  },
  {
   "cell_type": "code",
   "execution_count": null,
   "id": "97284133",
   "metadata": {},
   "outputs": [],
   "source": [
    "for i, footprint in footprints.iterrows():\n",
    "    if footprint[\"s2_item\"] is None:\n",
    "        print(f\"No matching Sentinel-2 item found for {footprint['image_id']}.\")\n",
    "        continue\n",
    "\n",
    "    s2_item = footprint[\"s2_item\"]\n",
    "    print(f\"Found matching Sentinel-2 item {s2_item.id} for {footprint['image_id']}.\")\n",
    "    break\n",
    "s2_item"
   ]
  },
  {
   "cell_type": "code",
   "execution_count": null,
   "id": "bb69b119",
   "metadata": {},
   "outputs": [],
   "source": [
    "from darts_acquisition.planet import load_planet_masks, load_planet_scene\n",
    "from darts_acquisition.s2 import load_s2_from_stac\n",
    "from matplotlib import pyplot as plt\n",
    "\n",
    "s2ds = load_s2_from_stac(s2_item, cache=Path(\"/isipd/projects/p_aicore_pf/darts-nextgen/data/cache/s2stac\"))\n",
    "display(s2ds)\n",
    "planetds = load_planet_scene(footprint.fpath)\n",
    "planet_mask = load_planet_masks(footprint.fpath).quality_data_mask == 2\n",
    "display(planetds)\n",
    "\n",
    "fig, axs = plt.subplots(2, 5, figsize=(20, 6))\n",
    "\n",
    "s2ds.red[::20, ::20].plot(ax=axs[0, 0], cmap=\"Reds\", vmax=0.3)\n",
    "s2ds.green[::20, ::20].plot(ax=axs[0, 1], cmap=\"Greens\", vmax=0.3)\n",
    "s2ds.blue[::20, ::20].plot(ax=axs[0, 2], cmap=\"Blues\", vmax=0.3)\n",
    "s2ds.nir[::20, ::20].plot(ax=axs[0, 3], cmap=\"gray\", vmax=0.3)\n",
    "s2ds.quality_data_mask[::20, ::20].plot(ax=axs[0, 4])\n",
    "\n",
    "planetds.red[::20, ::20].plot(ax=axs[1, 0], cmap=\"Reds\")\n",
    "planetds.green[::20, ::20].plot(ax=axs[1, 1], cmap=\"Greens\")\n",
    "planetds.blue[::20, ::20].plot(ax=axs[1, 2], cmap=\"Blues\")\n",
    "planetds.nir[::20, ::20].plot(ax=axs[1, 3], cmap=\"gray\")\n",
    "planet_mask[::20, ::20].plot(ax=axs[1, 4])"
   ]
  },
  {
   "cell_type": "code",
   "execution_count": null,
   "id": "f738221c",
   "metadata": {},
   "outputs": [],
   "source": [
    "from darts_acquisition.utils.arosics import align\n",
    "\n",
    "logging.getLogger(\"darts\").setLevel(logging.DEBUG)\n",
    "align(\n",
    "    s2ds.shift(x=-10),\n",
    "    planetds.astype(\"float32\"),\n",
    "    target_mask=s2ds.quality_data_mask.shift(x=-10) == 2,\n",
    "    reference_mask=planet_mask,\n",
    "    resample_to=\"target\",\n",
    "    return_offset=True,\n",
    ")"
   ]
  },
  {
   "cell_type": "code",
   "execution_count": null,
   "id": "51b1a418",
   "metadata": {},
   "outputs": [],
   "source": [
    "s2ds_aligned, oi = align(\n",
    "    s2ds.shift(x=-10),\n",
    "    s2ds,\n",
    "    target_mask=s2ds.quality_data_mask == 2,\n",
    "    reference_mask=s2ds.quality_data_mask == 2,\n",
    "    window_size=64,\n",
    "    bands=[\"red\", \"green\", \"blue\", \"nir\"],\n",
    "    return_offset=True,\n",
    ")\n",
    "display(oi)\n",
    "(s2ds_aligned.red - s2ds.red)[::20, ::20].plot()"
   ]
  },
  {
   "cell_type": "code",
   "execution_count": null,
   "id": "7066d3ce",
   "metadata": {},
   "outputs": [],
   "source": []
  }
 ],
 "metadata": {
  "kernelspec": {
   "display_name": "darts-nextgen",
   "language": "python",
   "name": "python3"
  },
  "language_info": {
   "codemirror_mode": {
    "name": "ipython",
    "version": 3
   },
   "file_extension": ".py",
   "mimetype": "text/x-python",
   "name": "python",
   "nbconvert_exporter": "python",
   "pygments_lexer": "ipython3",
   "version": "3.12.9"
  }
 },
 "nbformat": 4,
 "nbformat_minor": 5
}
