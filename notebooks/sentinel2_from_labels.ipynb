{
 "cells": [
  {
   "cell_type": "code",
   "execution_count": null,
   "id": "87182ddc",
   "metadata": {},
   "outputs": [],
   "source": [
    "from pathlib import Path\n",
    "\n",
    "import geopandas as gpd\n",
    "import pandas as pd\n",
    "import xarray as xr\n",
    "from rich import traceback\n",
    "\n",
    "traceback.install(show_locals=True)\n",
    "\n",
    "xr.set_options(display_expand_attrs=False)\n",
    "\n",
    "labels_dir = Path(\"/home/pd/tohoel001/repositories/ML_training_labels/retrogressive_thaw_slumps\")"
   ]
  },
  {
   "cell_type": "code",
   "execution_count": null,
   "id": "cd943ac7",
   "metadata": {},
   "outputs": [],
   "source": [
    "footprints = (gpd.read_file(footprints_file) for footprints_file in labels_dir.glob(\"*/ImageFootprints*.gpkg\"))\n",
    "footprints = gpd.GeoDataFrame(pd.concat(footprints, ignore_index=True))\n",
    "footprints"
   ]
  },
  {
   "cell_type": "code",
   "execution_count": null,
   "id": "47f7fb63",
   "metadata": {},
   "outputs": [],
   "source": [
    "def parse_date(row):\n",
    "    orthotile = row[\"datasource\"] == \"PlanetScope OrthoTile\"\n",
    "    if orthotile:\n",
    "        return pd.to_datetime(row[\"image_id\"].split(\"_\")[-2], format=\"%Y-%m-%d\")\n",
    "    else:\n",
    "        return pd.to_datetime(row[\"image_id\"].split(\"_\")[0], format=\"%Y%m%d\")\n",
    "\n",
    "\n",
    "footprints[\"date\"] = footprints.apply(parse_date, axis=1)\n",
    "footprints.info()"
   ]
  },
  {
   "cell_type": "code",
   "execution_count": null,
   "id": "8f4a93d4",
   "metadata": {},
   "outputs": [],
   "source": [
    "from darts_acquisition.s2 import match_s2ids_from_geodataframe_stac\n",
    "\n",
    "matches = match_s2ids_from_geodataframe_stac(\n",
    "    aoi=footprints.head(5),\n",
    "    day_range=7,\n",
    "    max_cloud_cover=10,\n",
    "    simplify_geometry=0.1,\n",
    ")\n",
    "matches"
   ]
  },
  {
   "cell_type": "code",
   "execution_count": null,
   "id": "9e5b34d8",
   "metadata": {},
   "outputs": [],
   "source": [
    "for s2id, items in matches.items():\n",
    "    print(f\"{s2id}: {len(items)} items\")"
   ]
  },
  {
   "cell_type": "code",
   "execution_count": null,
   "id": "2c2e28ff",
   "metadata": {},
   "outputs": [],
   "source": [
    "from darts.utils.copernicus import init_copernicus\n",
    "\n",
    "init_copernicus()"
   ]
  },
  {
   "cell_type": "code",
   "execution_count": null,
   "id": "39fd2eba",
   "metadata": {},
   "outputs": [],
   "source": [
    "from darts_acquisition.s2 import load_s2_from_stac\n",
    "\n",
    "s2item = next(iter(next(iter(matches.values())).values()))  # Get the first item from the first match\n",
    "s2item"
   ]
  },
  {
   "cell_type": "code",
   "execution_count": null,
   "id": "65f76e5f",
   "metadata": {},
   "outputs": [],
   "source": [
    "s2ds = load_s2_from_stac(s2item)\n",
    "s2ds"
   ]
  },
  {
   "cell_type": "code",
   "execution_count": null,
   "id": "c67ab6fd",
   "metadata": {},
   "outputs": [],
   "source": [
    "s2ds.quality_data_mask[::20, ::20].plot()"
   ]
  },
  {
   "cell_type": "code",
   "execution_count": null,
   "id": "0c2ff980",
   "metadata": {},
   "outputs": [],
   "source": [
    "s2ds.green[::20, ::20].plot()"
   ]
  },
  {
   "cell_type": "code",
   "execution_count": null,
   "id": "29c0d4cd",
   "metadata": {},
   "outputs": [],
   "source": [
    "s2ds.scl[::20, ::20].plot()"
   ]
  },
  {
   "cell_type": "code",
   "execution_count": null,
   "id": "c1c7e445",
   "metadata": {},
   "outputs": [],
   "source": []
  }
 ],
 "metadata": {
  "kernelspec": {
   "display_name": "darts-nextgen",
   "language": "python",
   "name": "python3"
  },
  "language_info": {
   "codemirror_mode": {
    "name": "ipython",
    "version": 3
   },
   "file_extension": ".py",
   "mimetype": "text/x-python",
   "name": "python",
   "nbconvert_exporter": "python",
   "pygments_lexer": "ipython3",
   "version": "3.12.9"
  }
 },
 "nbformat": 4,
 "nbformat_minor": 5
}
