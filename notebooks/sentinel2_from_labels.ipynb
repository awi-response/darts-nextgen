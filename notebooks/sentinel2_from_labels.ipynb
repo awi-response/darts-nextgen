{
 "cells": [
  {
   "cell_type": "code",
   "execution_count": null,
   "id": "87182ddc",
   "metadata": {},
   "outputs": [],
   "source": [
    "import logging\n",
    "from pathlib import Path\n",
    "\n",
    "import geopandas as gpd\n",
    "import pandas as pd\n",
    "import xarray as xr\n",
    "from rich import traceback\n",
    "from rich.logging import RichHandler\n",
    "\n",
    "from darts.utils.copernicus import init_copernicus\n",
    "\n",
    "logging.getLogger(\"darts\").setLevel(logging.INFO)\n",
    "logging.getLogger(\"darts\").addHandler(RichHandler())\n",
    "\n",
    "traceback.install(show_locals=True)\n",
    "\n",
    "xr.set_options(display_expand_attrs=False)\n",
    "\n",
    "init_copernicus()\n",
    "\n",
    "labels_dir = Path(\"/home/pd/tohoel001/repositories/ML_training_labels/retrogressive_thaw_slumps\")\n",
    "data_dir = Path(\"/isipd/projects/p_aicore_pf/initze/training_data_creation/slumps/03_processed\")"
   ]
  },
  {
   "cell_type": "code",
   "execution_count": null,
   "id": "47f7fb63",
   "metadata": {},
   "outputs": [],
   "source": [
    "def parse_date(row):\n",
    "    orthotile = row[\"datasource\"] == \"PlanetScope OrthoTile\"\n",
    "    if orthotile:\n",
    "        return pd.to_datetime(row[\"image_id\"].split(\"_\")[-2], format=\"%Y-%m-%d\", utc=True)\n",
    "    else:\n",
    "        return pd.to_datetime(row[\"image_id\"].split(\"_\")[0], format=\"%Y%m%d\", utc=True)\n",
    "\n",
    "\n",
    "def _legacy_path_gen(data_dir: Path):\n",
    "    for iterdir in data_dir.iterdir():\n",
    "        if iterdir.stem == \"iteration001\":\n",
    "            for sitedir in (iterdir).iterdir():\n",
    "                for imgdir in (sitedir).iterdir():\n",
    "                    if not imgdir.is_dir():\n",
    "                        continue\n",
    "                    try:\n",
    "                        yield next(imgdir.glob(\"*_SR.tif\")).parent\n",
    "                    except StopIteration:\n",
    "                        yield next(imgdir.glob(\"*_SR_clip.tif\")).parent\n",
    "        else:\n",
    "            for imgdir in (iterdir).iterdir():\n",
    "                if not imgdir.is_dir():\n",
    "                    continue\n",
    "                try:\n",
    "                    yield next(imgdir.glob(\"*_SR.tif\")).parent\n",
    "                except StopIteration:\n",
    "                    yield next(imgdir.glob(\"*_SR_clip.tif\")).parent\n",
    "\n",
    "\n",
    "footprints = (gpd.read_file(footprints_file) for footprints_file in labels_dir.glob(\"*/ImageFootprints*.gpkg\"))\n",
    "footprints = gpd.GeoDataFrame(pd.concat(footprints, ignore_index=True))\n",
    "footprints[\"date\"] = footprints.apply(parse_date, axis=1)\n",
    "fpaths = {fpath.stem: fpath for fpath in _legacy_path_gen(data_dir)}\n",
    "footprints[\"fpath\"] = footprints.image_id.map(fpaths)\n",
    "display(footprints.head())\n",
    "footprints.info()"
   ]
  },
  {
   "cell_type": "code",
   "execution_count": null,
   "id": "8f4a93d4",
   "metadata": {},
   "outputs": [],
   "source": [
    "from darts_acquisition.s2 import match_s2ids_from_geodataframe_stac\n",
    "\n",
    "footprints = footprints.take([0, 1, 2])\n",
    "matches = match_s2ids_from_geodataframe_stac(\n",
    "    aoi=footprints,\n",
    "    day_range=14,\n",
    "    max_cloud_cover=10,\n",
    "    simplify_geometry=0.1,\n",
    ")\n",
    "matches"
   ]
  },
  {
   "cell_type": "code",
   "execution_count": null,
   "id": "846a044c",
   "metadata": {},
   "outputs": [],
   "source": [
    "matches_gdf = gpd.GeoDataFrame.from_features([item.to_dict() for item in matches.values() if item], crs=\"EPSG:4326\")\n",
    "matches_gdf[\"s2id\"] = [item.id for item in matches.values() if item]\n",
    "m = matches_gdf.explore(color=\"red\")\n",
    "footprints.explore(m=m)\n",
    "m"
   ]
  },
  {
   "cell_type": "code",
   "execution_count": null,
   "id": "97284133",
   "metadata": {},
   "outputs": [],
   "source": [
    "footprints[\"s2_item\"] = footprints.index.map(matches)\n",
    "\n",
    "for i, footprint in footprints.iterrows():\n",
    "    if footprint[\"s2_item\"] is None:\n",
    "        print(f\"No matching Sentinel-2 item found for {footprint['image_id']}.\")\n",
    "        continue\n",
    "\n",
    "    s2_item = footprint[\"s2_item\"]\n",
    "    print(f\"Found matching Sentinel-2 item {s2_item.id} for {footprint['image_id']}.\")\n",
    "    break\n",
    "s2_item"
   ]
  },
  {
   "cell_type": "code",
   "execution_count": null,
   "id": "bb69b119",
   "metadata": {},
   "outputs": [],
   "source": [
    "from darts_acquisition.s2 import load_s2_from_stac\n",
    "\n",
    "s2ds = load_s2_from_stac(s2_item, cache=Path(\"/isipd/projects/p_aicore_pf/darts-nextgen/data/cache/s2stac\"))\n",
    "s2ds"
   ]
  },
  {
   "cell_type": "code",
   "execution_count": null,
   "id": "275eaf19",
   "metadata": {},
   "outputs": [],
   "source": [
    "from darts_acquisition.planet import load_planet_masks, load_planet_scene\n",
    "from darts_acquisition.utils.arosics import align, visualize_alignment\n",
    "\n",
    "planetds = load_planet_scene(footprint.fpath)\n",
    "planet_mask = load_planet_masks(footprint.fpath).quality_data_mask == 2\n",
    "planet_mask[::20, ::20].plot()"
   ]
  },
  {
   "cell_type": "code",
   "execution_count": null,
   "id": "109f6d6b",
   "metadata": {},
   "outputs": [],
   "source": [
    "planetds.nir[::20, ::20].plot()"
   ]
  },
  {
   "cell_type": "code",
   "execution_count": null,
   "id": "b6a1154e",
   "metadata": {},
   "outputs": [],
   "source": [
    "s2ds.nir[::20, ::20].plot()"
   ]
  },
  {
   "cell_type": "code",
   "execution_count": null,
   "id": "71051b51",
   "metadata": {},
   "outputs": [],
   "source": [
    "(s2ds.scl[::20, ::20]).plot()"
   ]
  },
  {
   "cell_type": "code",
   "execution_count": null,
   "id": "02452b3e",
   "metadata": {},
   "outputs": [],
   "source": [
    "s2ds.quality_data_mask[::20, ::20].plot()"
   ]
  },
  {
   "cell_type": "code",
   "execution_count": null,
   "id": "57f3f971",
   "metadata": {},
   "outputs": [],
   "source": [
    "s2ds.scl.isin([4, 5, 6])[::20, ::20].plot()"
   ]
  },
  {
   "cell_type": "code",
   "execution_count": null,
   "id": "f738221c",
   "metadata": {},
   "outputs": [],
   "source": [
    "logging.getLogger(\"darts\").setLevel(logging.DEBUG)\n",
    "align(\n",
    "    s2ds,\n",
    "    planetds.astype(\"float32\").shift(x=2, y=5),\n",
    "    target_mask=s2ds.scl.isin([4, 5, 6]),\n",
    "    reference_mask=planet_mask,\n",
    "    resample_to=\"target\",\n",
    "    return_offsets=True,\n",
    ")"
   ]
  },
  {
   "cell_type": "code",
   "execution_count": null,
   "id": "6fa4d19d",
   "metadata": {},
   "outputs": [],
   "source": [
    "vizs = visualize_alignment(\n",
    "    s2ds.shift(x=-10),\n",
    "    planetds.astype(\"float32\") / 3000,\n",
    "    target_mask=s2ds.scl.isin([4, 5, 6]),\n",
    "    reference_mask=planet_mask,\n",
    "    resample_to=\"target\",\n",
    "    window_size=64,\n",
    ")"
   ]
  },
  {
   "cell_type": "code",
   "execution_count": null,
   "id": "51b1a418",
   "metadata": {},
   "outputs": [],
   "source": [
    "s2ds_aligned = align(\n",
    "    s2ds.shift(x=-10),\n",
    "    s2ds,\n",
    "    target_mask=s2ds.scl.isin([4, 5, 6]),\n",
    "    reference_mask=s2ds.scl.isin([4, 5, 6]),\n",
    "    window_size=64,\n",
    "    bands=[\"red\", \"green\", \"blue\", \"nir\"],\n",
    ")\n",
    "(s2ds_aligned.red - s2ds.red)[::20, ::20].plot()"
   ]
  },
  {
   "cell_type": "code",
   "execution_count": null,
   "id": "cf06a72e",
   "metadata": {},
   "outputs": [],
   "source": [
    "vizs = visualize_alignment(\n",
    "    s2ds.shift(x=-10),\n",
    "    s2ds,\n",
    "    target_mask=s2ds.scl.isin([4, 5, 6]),\n",
    "    reference_mask=s2ds.scl.isin([4, 5, 6]),\n",
    "    window_size=64,\n",
    "    bands=[\"red\", \"green\", \"blue\", \"nir\"],\n",
    ")"
   ]
  },
  {
   "cell_type": "code",
   "execution_count": null,
   "id": "7066d3ce",
   "metadata": {},
   "outputs": [],
   "source": []
  }
 ],
 "metadata": {
  "kernelspec": {
   "display_name": "darts-nextgen",
   "language": "python",
   "name": "python3"
  },
  "language_info": {
   "codemirror_mode": {
    "name": "ipython",
    "version": 3
   },
   "file_extension": ".py",
   "mimetype": "text/x-python",
   "name": "python",
   "nbconvert_exporter": "python",
   "pygments_lexer": "ipython3",
   "version": "3.12.9"
  }
 },
 "nbformat": 4,
 "nbformat_minor": 5
}
